{
 "cells": [
  {
   "cell_type": "code",
   "execution_count": 2,
   "metadata": {},
   "outputs": [],
   "source": [
    "import IJulia"
   ]
  },
  {
   "cell_type": "code",
   "execution_count": 4,
   "metadata": {},
   "outputs": [
    {
     "name": "stdout",
     "output_type": "stream",
     "text": [
      "\u001b[32m\u001b[1m  Updating\u001b[22m\u001b[39m registry at `C:\\Users\\noname\\.julia\\registries\\General`\n",
      "\u001b[32m\u001b[1m  Updating\u001b[22m\u001b[39m git-repo `https://github.com/JuliaRegistries/General.git`\n",
      "\u001b[2K\u001b[36m\u001b[1mFetching:\u001b[22m\u001b[39m [========================================>]  100.0%0.0 %.0 %5 %1 %2 %22.3 %>                          ]  34.6 % %                  ]  53.6 %\u001b[36m\u001b[1mFetching:\u001b[22m\u001b[39m [===========================>             ]  65.2 %         ]  77.3 %]  87.4 %99.7 % %\u001b[?25h\u001b[32m\u001b[1m Resolving\u001b[22m\u001b[39m package versions...\n",
      "\u001b[32m\u001b[1m Installed\u001b[22m\u001b[39m Missings ─────────────── v0.4.3\n",
      "\u001b[32m\u001b[1m Installed\u001b[22m\u001b[39m Compat ───────────────── v2.2.0\n",
      "\u001b[32m\u001b[1m Installed\u001b[22m\u001b[39m ArrayInterface ───────── v2.0.0\n",
      "\u001b[32m\u001b[1m Installed\u001b[22m\u001b[39m Primes ───────────────── v0.4.0\n",
      "\u001b[32m\u001b[1m Installed\u001b[22m\u001b[39m StaticArrays ─────────── v0.12.1\n",
      "\u001b[32m\u001b[1m Installed\u001b[22m\u001b[39m Highlights ───────────── v0.4.5\n",
      "\u001b[32m\u001b[1m Installed\u001b[22m\u001b[39m Optim ────────────────── v0.19.5\n",
      "\u001b[32m\u001b[1m Installed\u001b[22m\u001b[39m GR ───────────────────── v0.44.0\n",
      "\u001b[32m\u001b[1m Installed\u001b[22m\u001b[39m MacroTools ───────────── v0.5.2\n",
      "\u001b[32m\u001b[1m Installed\u001b[22m\u001b[39m OffsetArrays ─────────── v0.11.2\n",
      "\u001b[32m\u001b[1m Installed\u001b[22m\u001b[39m FFTW ─────────────────── v1.1.0\n",
      "\u001b[32m\u001b[1m Installed\u001b[22m\u001b[39m Mustache ─────────────── v1.0.0\n",
      "\u001b[32m\u001b[1m Installed\u001b[22m\u001b[39m Calculus ─────────────── v0.5.1\n",
      "\u001b[32m\u001b[1m Installed\u001b[22m\u001b[39m NLSolversBase ────────── v7.5.0\n",
      "\u001b[32m\u001b[1m Installed\u001b[22m\u001b[39m ShiftedArrays ────────── v1.0.0\n",
      "\u001b[32m\u001b[1m Installed\u001b[22m\u001b[39m Interpolations ───────── v0.12.5\n",
      "\u001b[32m\u001b[1m Installed\u001b[22m\u001b[39m FillArrays ───────────── v0.8.2\n",
      "\u001b[32m\u001b[1m Installed\u001b[22m\u001b[39m BinaryProvider ───────── v0.5.8\n",
      "\u001b[32m\u001b[1m Installed\u001b[22m\u001b[39m NaNMath ──────────────── v0.3.3\n",
      "\u001b[32m\u001b[1m Installed\u001b[22m\u001b[39m Parsers ──────────────── v0.3.10\n",
      "\u001b[32m\u001b[1m Installed\u001b[22m\u001b[39m AbstractFFTs ─────────── v0.5.0\n",
      "\u001b[32m\u001b[1m Installed\u001b[22m\u001b[39m DiffEqDiffTools ──────── v1.5.0\n",
      "\u001b[32m\u001b[1m Installed\u001b[22m\u001b[39m PlotThemes ───────────── v1.0.0\n",
      "\u001b[32m\u001b[1m Installed\u001b[22m\u001b[39m IterTools ────────────── v1.3.0\n",
      "\u001b[32m\u001b[1m Installed\u001b[22m\u001b[39m PositiveFactorizations ─ v0.2.3\n",
      "\u001b[32m\u001b[1m Installed\u001b[22m\u001b[39m QuadGK ───────────────── v2.1.1\n",
      "\u001b[32m\u001b[1m Installed\u001b[22m\u001b[39m Rmath ────────────────── v0.6.0\n",
      "\u001b[32m\u001b[1m Installed\u001b[22m\u001b[39m PlotUtils ────────────── v0.6.1\n",
      "\u001b[32m\u001b[1m Installed\u001b[22m\u001b[39m DataStructures ───────── v0.17.6\n",
      "\u001b[32m\u001b[1m Installed\u001b[22m\u001b[39m CategoricalArrays ────── v0.7.3\n",
      "\u001b[32m\u001b[1m Installed\u001b[22m\u001b[39m ForwardDiff ──────────── v0.10.7\n",
      "\u001b[32m\u001b[1m Installed\u001b[22m\u001b[39m StatsModels ──────────── v0.6.7\n",
      "\u001b[32m\u001b[1m Installed\u001b[22m\u001b[39m DocStringExtensions ──── v0.8.1\n",
      "\u001b[32m\u001b[1m Installed\u001b[22m\u001b[39m DataAPI ──────────────── v1.1.0\n",
      "\u001b[32m\u001b[1m  Updating\u001b[22m\u001b[39m `C:\\Users\\noname\\.julia\\environments\\v1.2\\Project.toml`\n",
      " \u001b[90m [27ebfcd6]\u001b[39m\u001b[92m + Primes v0.4.0\u001b[39m\n",
      "\u001b[32m\u001b[1m  Updating\u001b[22m\u001b[39m `C:\\Users\\noname\\.julia\\environments\\v1.2\\Manifest.toml`\n",
      " \u001b[90m [621f4979]\u001b[39m\u001b[93m ↑ AbstractFFTs v0.4.1 ⇒ v0.5.0\u001b[39m\n",
      " \u001b[90m [4fba245c]\u001b[39m\u001b[93m ↑ ArrayInterface v1.2.1 ⇒ v2.0.0\u001b[39m\n",
      " \u001b[90m [b99e7846]\u001b[39m\u001b[93m ↑ BinaryProvider v0.5.6 ⇒ v0.5.8\u001b[39m\n",
      " \u001b[90m [00ebfdb7]\u001b[39m\u001b[91m - CSTParser v0.6.2\u001b[39m\n",
      " \u001b[90m [49dc2e85]\u001b[39m\u001b[93m ↑ Calculus v0.5.0 ⇒ v0.5.1\u001b[39m\n",
      " \u001b[90m [324d7699]\u001b[39m\u001b[93m ↑ CategoricalArrays v0.7.0 ⇒ v0.7.3\u001b[39m\n",
      " \u001b[90m [34da2185]\u001b[39m\u001b[93m ↑ Compat v2.1.0 ⇒ v2.2.0\u001b[39m\n",
      " \u001b[90m [9a962f9c]\u001b[39m\u001b[93m ↑ DataAPI v1.0.1 ⇒ v1.1.0\u001b[39m\n",
      " \u001b[90m [864edb3b]\u001b[39m\u001b[93m ↑ DataStructures v0.17.0 ⇒ v0.17.6\u001b[39m\n",
      " \u001b[90m [01453d9d]\u001b[39m\u001b[93m ↑ DiffEqDiffTools v1.3.0 ⇒ v1.5.0\u001b[39m\n",
      " \u001b[90m [ffbed154]\u001b[39m\u001b[93m ↑ DocStringExtensions v0.8.0 ⇒ v0.8.1\u001b[39m\n",
      " \u001b[90m [7a1cc6ca]\u001b[39m\u001b[93m ↑ FFTW v0.3.0 ⇒ v1.1.0\u001b[39m\n",
      " \u001b[90m [1a297f60]\u001b[39m\u001b[93m ↑ FillArrays v0.7.1 ⇒ v0.8.2\u001b[39m\n",
      " \u001b[90m [f6369f11]\u001b[39m\u001b[93m ↑ ForwardDiff v0.10.3 ⇒ v0.10.7\u001b[39m\n",
      " \u001b[90m [28b8d3ca]\u001b[39m\u001b[93m ↑ GR v0.41.0 ⇒ v0.44.0\u001b[39m\n",
      " \u001b[90m [eafb193a]\u001b[39m\u001b[93m ↑ Highlights v0.4.3 ⇒ v0.4.5\u001b[39m\n",
      " \u001b[90m [a98d9a8b]\u001b[39m\u001b[93m ↑ Interpolations v0.12.2 ⇒ v0.12.5\u001b[39m\n",
      " \u001b[90m [c8e1da08]\u001b[39m\u001b[93m ↑ IterTools v1.2.0 ⇒ v1.3.0\u001b[39m\n",
      " \u001b[90m [1914dd2f]\u001b[39m\u001b[93m ↑ MacroTools v0.5.1 ⇒ v0.5.2\u001b[39m\n",
      " \u001b[90m [e1d29d7a]\u001b[39m\u001b[93m ↑ Missings v0.4.2 ⇒ v0.4.3\u001b[39m\n",
      " \u001b[90m [ffc61752]\u001b[39m\u001b[93m ↑ Mustache v0.5.13 ⇒ v1.0.0\u001b[39m\n",
      " \u001b[90m [d41bc354]\u001b[39m\u001b[93m ↑ NLSolversBase v7.4.1 ⇒ v7.5.0\u001b[39m\n",
      " \u001b[90m [77ba4419]\u001b[39m\u001b[93m ↑ NaNMath v0.3.2 ⇒ v0.3.3\u001b[39m\n",
      " \u001b[90m [6fe1bfb0]\u001b[39m\u001b[93m ↑ OffsetArrays v0.11.1 ⇒ v0.11.2\u001b[39m\n",
      " \u001b[90m [429524aa]\u001b[39m\u001b[93m ↑ Optim v0.19.3 ⇒ v0.19.5\u001b[39m\n",
      " \u001b[90m [69de0a69]\u001b[39m\u001b[93m ↑ Parsers v0.3.7 ⇒ v0.3.10\u001b[39m\n",
      " \u001b[90m [ccf2f8ad]\u001b[39m\u001b[93m ↑ PlotThemes v0.3.0 ⇒ v1.0.0\u001b[39m\n",
      " \u001b[90m [995b91a9]\u001b[39m\u001b[93m ↑ PlotUtils v0.5.8 ⇒ v0.6.1\u001b[39m\n",
      " \u001b[90m [85a6dd25]\u001b[39m\u001b[93m ↑ PositiveFactorizations v0.2.2 ⇒ v0.2.3\u001b[39m\n",
      " \u001b[90m [27ebfcd6]\u001b[39m\u001b[92m + Primes v0.4.0\u001b[39m\n",
      " \u001b[90m [1fd47b50]\u001b[39m\u001b[93m ↑ QuadGK v2.0.3 ⇒ v2.1.1\u001b[39m\n",
      " \u001b[90m [731186ca]\u001b[39m\u001b[91m - RecursiveArrayTools v0.18.6\u001b[39m\n",
      " \u001b[90m [79098fc4]\u001b[39m\u001b[93m ↑ Rmath v0.5.0 ⇒ v0.6.0\u001b[39m\n",
      " \u001b[90m [1277b4bf]\u001b[39m\u001b[93m ↑ ShiftedArrays v0.5.0 ⇒ v1.0.0\u001b[39m\n",
      " \u001b[90m [90137ffa]\u001b[39m\u001b[93m ↑ StaticArrays v0.11.0 ⇒ v0.12.1\u001b[39m\n",
      " \u001b[90m [3eaba693]\u001b[39m\u001b[93m ↑ StatsModels v0.6.3 ⇒ v0.6.7\u001b[39m\n",
      " \u001b[90m [0796e94c]\u001b[39m\u001b[91m - Tokenize v0.5.6\u001b[39m\n",
      "\u001b[32m\u001b[1m  Building\u001b[22m\u001b[39m GR ───→ `C:\\Users\\noname\\.julia\\packages\\GR\\oiZD3\\deps\\build.log`\n",
      "\u001b[32m\u001b[1m  Building\u001b[22m\u001b[39m FFTW ─→ `C:\\Users\\noname\\.julia\\packages\\FFTW\\loJ3F\\deps\\build.log`\n",
      "\u001b[32m\u001b[1m  Building\u001b[22m\u001b[39m Rmath → `C:\\Users\\noname\\.julia\\packages\\Rmath\\BoBag\\deps\\build.log`\n",
      "\u001b[32m\u001b[1m Resolving\u001b[22m\u001b[39m package versions...\n",
      "\u001b[32m\u001b[1m  Updating\u001b[22m\u001b[39m `C:\\Users\\noname\\.julia\\environments\\v1.2\\Project.toml`\n",
      " \u001b[90m [10745b16]\u001b[39m\u001b[92m + Statistics \u001b[39m\n",
      "\u001b[32m\u001b[1m  Updating\u001b[22m\u001b[39m `C:\\Users\\noname\\.julia\\environments\\v1.2\\Manifest.toml`\n",
      "\u001b[90m [no changes]\u001b[39m\n",
      "\u001b[32m\u001b[1m Resolving\u001b[22m\u001b[39m package versions...\n",
      "\u001b[32m\u001b[1m  Updating\u001b[22m\u001b[39m `C:\\Users\\noname\\.julia\\environments\\v1.2\\Project.toml`\n",
      "\u001b[90m [no changes]\u001b[39m\n",
      "\u001b[32m\u001b[1m  Updating\u001b[22m\u001b[39m `C:\\Users\\noname\\.julia\\environments\\v1.2\\Manifest.toml`\n",
      "\u001b[90m [no changes]\u001b[39m\n",
      "\u001b[32m\u001b[1m Resolving\u001b[22m\u001b[39m package versions...\n",
      "\u001b[32m\u001b[1m  Updating\u001b[22m\u001b[39m `C:\\Users\\noname\\.julia\\environments\\v1.2\\Project.toml`\n",
      " \u001b[90m [4c63d2b9]\u001b[39m\u001b[92m + StatsFuns v0.8.0\u001b[39m\n",
      "\u001b[32m\u001b[1m  Updating\u001b[22m\u001b[39m `C:\\Users\\noname\\.julia\\environments\\v1.2\\Manifest.toml`\n",
      "\u001b[90m [no changes]\u001b[39m\n"
     ]
    }
   ],
   "source": [
    "import Pkg\n",
    "Pkg.add(\"Primes\")\n",
    "Pkg.add(\"Statistics\")\n",
    "Pkg.add(\"Distributions\")\n",
    "Pkg.add(\"StatsFuns\")"
   ]
  },
  {
   "cell_type": "code",
   "execution_count": 6,
   "metadata": {},
   "outputs": [
    {
     "name": "stdout",
     "output_type": "stream",
     "text": [
      "\u001b[32m\u001b[1m Resolving\u001b[22m\u001b[39m package versions...\n",
      "\u001b[32m\u001b[1m  Updating\u001b[22m\u001b[39m `C:\\Users\\noname\\.julia\\environments\\v1.2\\Project.toml`\n",
      " \u001b[90m [b4f34e82]\u001b[39m\u001b[92m + Distances v0.8.2\u001b[39m\n",
      "\u001b[32m\u001b[1m  Updating\u001b[22m\u001b[39m `C:\\Users\\noname\\.julia\\environments\\v1.2\\Manifest.toml`\n",
      "\u001b[90m [no changes]\u001b[39m\n"
     ]
    }
   ],
   "source": [
    "Pkg.add(\"Distances\")"
   ]
  },
  {
   "cell_type": "markdown",
   "metadata": {},
   "source": [
    "## Correlation matrix"
   ]
  },
  {
   "cell_type": "markdown",
   "metadata": {},
   "source": [
    "### Unit square-grid-array, indexed by Morton order\n",
    "\n",
    "Assume the level of Morton indexing is 1. Fix m = 64, and n = 256, 1024, 4096, 16384"
   ]
  },
  {
   "cell_type": "code",
   "execution_count": 47,
   "metadata": {},
   "outputs": [
    {
     "data": {
      "text/plain": [
       "Mor (generic function with 1 method)"
      ]
     },
     "execution_count": 47,
     "metadata": {},
     "output_type": "execute_result"
    }
   ],
   "source": [
    "using Distances\n",
    "\n",
    "n = [256, 1024, 4096, 16384]\n",
    "c = [0.3, 0.1, 0.03]\n",
    "function Mor(n::Int64, c::Float64) \n",
    "    a=trunc(Int,sqrt(n))-1\n",
    "    A=Vector{Float64}(undef,a+1)   ## grid : x-coord\n",
    "    B=Vector{Float64}(undef,a+1)   ## grid : y-coord\n",
    "    C=zeros(a+1,a+1)   ## Index by Morton order\n",
    "    D=Matrix{Float64}(undef,n,n)\n",
    "    for i=1:(a+1)\n",
    "        A[i] = (i-1)/a \n",
    "        B[i] = 1-(i-1)/a\n",
    "        for j=1:(a+1)\n",
    "            C[i,j] = trunc(Int,(a+1)*(i-1)+j)\n",
    "        end\n",
    "    end\n",
    "\n",
    "    for i=1:n\n",
    "        for j=i:n\n",
    "        D[i,j] = exp(-euclidean([A[findall(x->x==i,C)[1][1]], B[findall(x->x==i, C)[1][2]]],[A[findall(x->x==j,C)[1][1]], B[findall(x->x==j, C)[1][2]]])/c)\n",
    "        D[j,i] = D[i,j]\n",
    "        end\n",
    "    end\n",
    "    return D\n",
    "end\n"
   ]
  },
  {
   "cell_type": "markdown",
   "metadata": {},
   "source": [
    "## Block Reordering"
   ]
  },
  {
   "cell_type": "markdown",
   "metadata": {},
   "source": [
    "Fix $m = 64$, $a = -\\inf$, $b \\sim$ $U(0,1)$, $d = 1$(while simulation)"
   ]
  },
  {
   "cell_type": "code",
   "execution_count": 55,
   "metadata": {},
   "outputs": [
    {
     "data": {
      "text/plain": [
       "Blockreorder (generic function with 1 method)"
      ]
     },
     "execution_count": 55,
     "metadata": {},
     "output_type": "execute_result"
    }
   ],
   "source": [
    "function Blockreorder(n::Int64, c::Float64, ind::Array{Float64,1}, a::Array{Float64,1}, b::Array{Float64,1}, m::Int64)\n",
    "    P=Array{Float64}(undef, trunc(Int, n/m))\n",
    "    for j=1:m:(n-m+1)\n",
    "        subind=ind[j:(j+m-1)]\n",
    "        A = Mor(n,c)[subind, subind]\n",
    "        a0 = a[subind]\n",
    "        b0 = b[subind]\n",
    "        P = [P,RCMVN(A, a0, b0, 1).P]   ## Required RCMVN\n",
    "    end\n",
    "end\n"
   ]
  }
 ],
 "metadata": {
  "kernelspec": {
   "display_name": "Julia 1.2.0",
   "language": "julia",
   "name": "julia-1.2"
  },
  "language_info": {
   "file_extension": ".jl",
   "mimetype": "application/julia",
   "name": "julia",
   "version": "1.2.0"
  }
 },
 "nbformat": 4,
 "nbformat_minor": 2
}
