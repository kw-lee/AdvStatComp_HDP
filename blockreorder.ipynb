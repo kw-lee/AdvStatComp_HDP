{
 "cells": [
  {
   "cell_type": "code",
   "execution_count": 2,
   "metadata": {},
   "outputs": [],
   "source": [
    "import IJulia"
   ]
  },
  {
   "cell_type": "markdown",
   "metadata": {},
   "source": [
    "## Correlation matrix"
   ]
  },
  {
   "cell_type": "markdown",
   "metadata": {},
   "source": [
    "### Unit square-grid-array, indexed by Morton order\n",
    "\n",
    "Assume the level of Morton indexing is 1. Fix m = 64, and n = 256, 1024, 4096, 16384"
   ]
  },
  {
   "cell_type": "code",
   "execution_count": 47,
   "metadata": {},
   "outputs": [
    {
     "data": {
      "text/plain": [
       "Mor (generic function with 1 method)"
      ]
     },
     "execution_count": 47,
     "metadata": {},
     "output_type": "execute_result"
    }
   ],
   "source": [
    "using Distances\n",
    "\n",
    "n = [256, 1024, 4096, 16384]\n",
    "c = [0.3, 0.1, 0.03]\n",
    "function Mor(n::Int64, c::Float64) \n",
    "    a=trunc(Int,sqrt(n))-1\n",
    "    A=Vector{Float64}(undef,a+1)   ## grid : x-coord\n",
    "    B=Vector{Float64}(undef,a+1)   ## grid : y-coord\n",
    "    C=zeros(a+1,a+1)   ## Index by Morton order\n",
    "    D=Matrix{Float64}(undef,n,n)\n",
    "    for i=1:(a+1)\n",
    "        A[i] = (i-1)/a \n",
    "        B[i] = 1-(i-1)/a\n",
    "        for j=1:(a+1)\n",
    "            C[i,j] = trunc(Int,(a+1)*(i-1)+j)\n",
    "        end\n",
    "    end\n",
    "\n",
    "    for i=1:n\n",
    "        for j=i:n\n",
    "        D[i,j] = exp(-euclidean([A[findall(x->x==i,C)[1][1]], B[findall(x->x==i, C)[1][2]]],[A[findall(x->x==j,C)[1][1]], B[findall(x->x==j, C)[1][2]]])/c)\n",
    "        D[j,i] = D[i,j]\n",
    "        end\n",
    "    end\n",
    "    return D\n",
    "end\n"
   ]
  },
  {
   "cell_type": "markdown",
   "metadata": {},
   "source": [
    "## Block Reordering"
   ]
  },
  {
   "cell_type": "markdown",
   "metadata": {},
   "source": [
    "Fix $m = 64$, $a = -\\inf$, $b \\sim$ $U(0,1)$, $d = 1$(while simulation)"
   ]
  },
  {
   "cell_type": "code",
   "execution_count": 50,
   "metadata": {},
   "outputs": [
    {
     "data": {
      "text/plain": [
       "Blockreorder (generic function with 1 method)"
      ]
     },
     "execution_count": 50,
     "metadata": {},
     "output_type": "execute_result"
    }
   ],
   "source": [
    "function Blockreorder(n::Int64, c::Float64, ind::Array{Float64,1}, a::Array{Float64,1}, b::Array{Float64,1}, m::Int64)\n",
    "    P=Array{Float64}(undef, trunc(Int, n/m))\n",
    "    for j=1:m:(n-m+1)\n",
    "        subind=ind[j:(j+m-1)]\n",
    "        A = Mor(n,c)[subind, subind]\n",
    "        a0 = a[subind]\n",
    "        b0 = b[subind]\n",
    "        P = [P,RCMVN(A, a0, b0, 1).P]   ## Required RCMVN, probability values for each m-sized blocks\n",
    "    end\n",
    "    ord=sortperm(P, rev=true)\n",
    "    key=Array{Int64,1}(undef, n)\n",
    "    for j=1:length(ord)\n",
    "        key[(trunc(Int,length(ind)/length(P))*(j-1)+1):1:(trunc(Int,length(ind)/length(P))*j)]=[((ord[j]-1)*trunc(Int,length(ind)/length(P))+1) : 1 : (ord[j]*trunc(Int,length(ind)/length(P)));]   ## dimenstion arranging between vectors P and ind   ## dimenstion arranging between vectors P and ind\n",
    "    end\n",
    "    ind = ind[key]\n",
    "    return ind\n",
    "end\n"
   ]
  }
 ],
 "metadata": {
  "kernelspec": {
   "display_name": "Julia 1.2.0",
   "language": "julia",
   "name": "julia-1.2"
  },
  "language_info": {
   "file_extension": ".jl",
   "mimetype": "application/julia",
   "name": "julia",
   "version": "1.2.0"
  }
 },
 "nbformat": 4,
 "nbformat_minor": 2
}
