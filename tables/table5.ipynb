{
 "cells": [
  {
   "cell_type": "code",
   "execution_count": 2,
   "metadata": {},
   "outputs": [
    {
     "data": {
      "text/plain": [
       "Σ_morton_generate"
      ]
     },
     "execution_count": 2,
     "metadata": {},
     "output_type": "execute_result"
    }
   ],
   "source": [
    "using Distributions, LinearAlgebra, Statistics, StatsFuns\n",
    "cd(\"../src/\")\n",
    "include(\"hcmvn.jl\")\n",
    "include(\"hchol.jl\")\n",
    "include(\"generate.jl\")"
   ]
  },
  {
   "cell_type": "code",
   "execution_count": 72,
   "metadata": {},
   "outputs": [],
   "source": [
    "iters = 5\n",
    "# ns = [512, 1024, 2048]\n",
    "ns = [8^2, 16^2]\n",
    "m = 16\n",
    "N = 10^5\n",
    "βs = [0.3, 0.1, 0.03];"
   ]
  },
  {
   "cell_type": "code",
   "execution_count": 73,
   "metadata": {},
   "outputs": [],
   "source": [
    "# beta1\n",
    "ans_arr = zeros(length(ns), length(βs), 5, iters)\n",
    "time_arr = zeros(length(ns), length(βs), 5)\n",
    "real_arr = zeros(length(ns), length(βs), iters)\n",
    "h_size_arr = zeros(length(ns), length(βs), iters);"
   ]
  },
  {
   "cell_type": "code",
   "execution_count": 74,
   "metadata": {},
   "outputs": [
    {
     "name": "stdout",
     "output_type": "stream",
     "text": [
      "64 start\n",
      "\n",
      "256 start\n",
      "\n"
     ]
    },
    {
     "ename": "InterruptException",
     "evalue": "InterruptException:",
     "output_type": "error",
     "traceback": [
      "InterruptException:",
      "",
      "Stacktrace:",
      " [1] Type at ./boot.jl:404 [inlined]",
      " [2] Type at ./boot.jl:413 [inlined]",
      " [3] similar at ./array.jl:318 [inlined]",
      " [4] similar at /buildworker/worker/package_linux64/build/usr/share/julia/stdlib/v1.2/LinearAlgebra/src/triangular.jl:44 [inlined]",
      " [5] similar at ./abstractarray.jl:627 [inlined]",
      " [6] _unsafe_getindex(::IndexCartesian, ::LowerTriangular{Float64,Array{Float64,2}}, ::UnitRange{Int64}, ::Int64) at ./multidimensional.jl:682",
      " [7] _getindex at ./multidimensional.jl:670 [inlined]",
      " [8] getindex at ./abstractarray.jl:981 [inlined]",
      " [9] #mvn#27(::Int64, ::Int64, ::Float64, ::Array{Float64,1}, ::typeof(mvn), ::LowerTriangular{Float64,Array{Float64,2}}, ::Array{Float64,1}, ::Array{Float64,1}) at /home/lkw1718/Dropbox/lx2/2019Q3/AdvStatComp/project_hdp/src/mvn.jl:152",
      " [10] (::getfield(Main, Symbol(\"#kw##mvn\")))(::NamedTuple{(:ns, :N),Tuple{Int64,Int64}}, ::typeof(mvn), ::LowerTriangular{Float64,Array{Float64,2}}, ::Array{Float64,1}, ::Array{Float64,1}) at ./none:0",
      " [11] top-level scope at ./In[74]:19"
     ]
    }
   ],
   "source": [
    "for i in 1:length(ns)\n",
    "    n = ns[i]\n",
    "    println(n, \" start\\n\")\n",
    "    for p in 1:iters\n",
    "        for j in 1:length(βs)\n",
    "            Σ_morton = Σ_morton_generate(n, βs[j])\n",
    "            a = fill(-Inf, n)\n",
    "            b = rand(Uniform(0, n), n)\n",
    "            \n",
    "            B, UV = hchol(Σ_morton, m)\n",
    "            h_size_arr[i, j, p] += (Base.summarysize(UV) + Base.summarysize(B)) / Base.summarysize(Σ_morton)\n",
    "        \n",
    "            time_arr[i, j, 1] += @elapsed ans_arr[i, j, p, 1] += mvn(cholesky(Σ_morton).L, a, b, ns = 10, N = 1000)\n",
    "            time_arr[i, j, 2] += @elapsed ans_arr[i, j, p, 2] += HMVN(a, b, Σ_morton, m, ns = 10, N = 1000)\n",
    "            time_arr[i, j, 3] += @elapsed ans_arr[i, j, p, 3] += HCMVN(a, b, Σ_morton, 1, m, ns = 10, N = 1000)\n",
    "            time_arr[i, j, 4] += @elapsed ans_arr[i, j, p, 4] += HCMVN(a, b, Σ_morton, 2, m, ns = 10, N = 1000)\n",
    "            time_arr[i, j, 5] += @elapsed ans_arr[i, j, p, 5] += HCMVN(a, b, Σ_morton, 4, m, ns = 10, N = 1000)\n",
    "            \n",
    "            real_arr[i, j, p] += mvn(cholesky(Σ_morton).L, a, b, ns = 100, N = 10000)\n",
    "        end\n",
    "    end\n",
    "end"
   ]
  },
  {
   "cell_type": "code",
   "execution_count": 70,
   "metadata": {},
   "outputs": [
    {
     "data": {
      "text/plain": [
       "2×3×5 Array{Float64,3}:\n",
       "[:, :, 1] =\n",
       " 0.194038  0.194038  0.172554\n",
       " 1.19819   0.0       0.0     \n",
       "\n",
       "[:, :, 2] =\n",
       " 0.194038  0.194038  0.172554\n",
       " 0.0       0.0       0.0     \n",
       "\n",
       "[:, :, 3] =\n",
       " 0.194038  0.194038  0.172554\n",
       " 0.0       0.0       0.0     \n",
       "\n",
       "[:, :, 4] =\n",
       " 0.194038  0.194038  0.172554\n",
       " 0.0       0.0       0.0     \n",
       "\n",
       "[:, :, 5] =\n",
       " 0.194038  0.194038  0.172554\n",
       " 0.0       0.0       0.0     "
      ]
     },
     "execution_count": 70,
     "metadata": {},
     "output_type": "execute_result"
    }
   ],
   "source": [
    "h_size_arr"
   ]
  },
  {
   "cell_type": "code",
   "execution_count": 71,
   "metadata": {},
   "outputs": [
    {
     "data": {
      "text/plain": [
       "2×3×5 Array{Float64,3}:\n",
       "[:, :, 1] =\n",
       "  6.78247  6.58139  6.73119\n",
       " 17.3601   0.0      0.0    \n",
       "\n",
       "[:, :, 2] =\n",
       " 178.694  178.398  179.001\n",
       " 142.088    0.0      0.0  \n",
       "\n",
       "[:, :, 3] =\n",
       " 0.0609735  0.0596971  0.0565385\n",
       " 0.0961091  0.0        0.0      \n",
       "\n",
       "[:, :, 4] =\n",
       " 5.21575  5.12462  5.20499\n",
       " 3.95974  0.0      0.0    \n",
       "\n",
       "[:, :, 5] =\n",
       " 9.65338  9.5468  9.52184\n",
       " 7.69576  0.0     0.0    "
      ]
     },
     "execution_count": 71,
     "metadata": {},
     "output_type": "execute_result"
    }
   ],
   "source": [
    "time_arr"
   ]
  }
 ],
 "metadata": {
  "kernelspec": {
   "display_name": "Julia 1.2.0",
   "language": "julia",
   "name": "julia-1.2"
  },
  "language_info": {
   "file_extension": ".jl",
   "mimetype": "application/julia",
   "name": "julia",
   "version": "1.2.0"
  }
 },
 "nbformat": 4,
 "nbformat_minor": 2
}
