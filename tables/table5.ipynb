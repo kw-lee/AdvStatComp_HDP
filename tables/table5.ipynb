{
 "cells": [
  {
   "cell_type": "code",
   "execution_count": null,
   "metadata": {},
   "outputs": [],
   "source": [
    "using Distributions, LinearAlgebra, Statistics, StatsFuns\n",
    "cd(\"../src/\")\n",
    "include(\"hcmvn.jl\")\n",
    "include(\"hchol.jl\")\n",
    "include(\"generate.jl\")"
   ]
  },
  {
   "cell_type": "code",
   "execution_count": null,
   "metadata": {},
   "outputs": [],
   "source": [
    "iters = 20\n",
    "# ns = [512, 1024, 2048]\n",
    "ns = [256, 512, 1024]\n",
    "m = 64\n",
    "d = [1, 2, 4]\n",
    "N = 10^6\n",
    "β = 0.3"
   ]
  }
 ],
 "metadata": {
  "kernelspec": {
   "display_name": "Julia 1.2.0",
   "language": "julia",
   "name": "julia-1.2"
  },
  "language_info": {
   "file_extension": ".jl",
   "mimetype": "application/julia",
   "name": "julia",
   "version": "1.2.0"
  }
 },
 "nbformat": 4,
 "nbformat_minor": 2
}
