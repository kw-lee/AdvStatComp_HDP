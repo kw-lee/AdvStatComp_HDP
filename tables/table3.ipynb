{
 "cells": [
  {
   "cell_type": "code",
   "execution_count": 1,
   "metadata": {},
   "outputs": [
    {
     "data": {
      "text/plain": [
       "Σ_1d_generate (generic function with 1 method)"
      ]
     },
     "execution_count": 1,
     "metadata": {},
     "output_type": "execute_result"
    }
   ],
   "source": [
    "using Distributions, LinearAlgebra, Statistics, StatsFuns\n",
    "cd(\"../src/\")\n",
    "include(\"hcmvn.jl\")\n",
    "include(\"hchol.jl\")\n",
    "include(\"generate.jl\")"
   ]
  },
  {
   "cell_type": "markdown",
   "metadata": {},
   "source": [
    "## Settings"
   ]
  },
  {
   "cell_type": "code",
   "execution_count": 2,
   "metadata": {},
   "outputs": [
    {
     "data": {
      "text/plain": [
       "4"
      ]
     },
     "execution_count": 2,
     "metadata": {},
     "output_type": "execute_result"
    }
   ],
   "source": [
    "iters = 20\n",
    "# ns = [512, 1024, 2048]\n",
    "ns = [256, 512, 1024]\n",
    "ms = [16, 32, 64]\n",
    "d = 4"
   ]
  },
  {
   "cell_type": "markdown",
   "metadata": {},
   "source": [
    "## 4.2 Simulation with a constant covariance matrix"
   ]
  },
  {
   "cell_type": "code",
   "execution_count": 3,
   "metadata": {},
   "outputs": [
    {
     "data": {
      "text/plain": [
       "0.7"
      ]
     },
     "execution_count": 3,
     "metadata": {},
     "output_type": "execute_result"
    }
   ],
   "source": [
    "θ = 0.7"
   ]
  },
  {
   "cell_type": "code",
   "execution_count": 4,
   "metadata": {},
   "outputs": [
    {
     "data": {
      "text/plain": [
       "cc_prob (generic function with 1 method)"
      ]
     },
     "execution_count": 4,
     "metadata": {},
     "output_type": "execute_result"
    }
   ],
   "source": [
    "# true value\n",
    "function cc_prob(n::Int, θ::T, b::Array{T, 1}; ns::Int = 10000) where T<:AbstractFloat\n",
    "    # calculate values using MC \n",
    "    s = 0\n",
    "    x = rand(Normal(0, 1), ns)\n",
    "    for i in 1:ns\n",
    "        integ = 1\n",
    "        for j in 1:n\n",
    "            integ *= normcdf((b[j] + sqrt(θ)*x[i])/(1-θ))\n",
    "        end\n",
    "        s += integ\n",
    "    end\n",
    "    return s/ns\n",
    "end"
   ]
  },
  {
   "cell_type": "code",
   "execution_count": 5,
   "metadata": {},
   "outputs": [],
   "source": [
    "ans1_m1 = zeros(length(ns), length(ms), iters)\n",
    "time1_m1 = zeros(length(ns), length(ms))\n",
    "ans1_m2 = zeros(length(ns), length(ms), iters)\n",
    "time1_m2 = zeros(length(ns), length(ms))\n",
    "ans1_m3 = zeros(length(ns), length(ms), iters)\n",
    "time1_m3 = zeros(length(ns), length(ms))\n",
    "\n",
    "real = zeros(length(ns), length(ms), iters)\n",
    "\n",
    "for i in 1:length(ns)\n",
    "    n = ns[i]\n",
    "    Σ_const = Σ_const_generate(n, θ)\n",
    "    for j in 1:length(ms)\n",
    "        m = ms[j] \n",
    "        for p in 1:iters\n",
    "            a = fill(-Inf, n)\n",
    "            b = rand(Uniform(0, n), n)\n",
    "            time1_m1[i, j] += @elapsed ans1_m1[i, j, p] += HMVN(a, b, Σ_const, m)\n",
    "            time1_m2[i, j] += @elapsed ans1_m2[i, j, p] += HCMVN(a, b, Σ_const, d, m)\n",
    "            time1_m3[i, j] += @elapsed ans1_m3[i, j, p] += HRCMVN(a, b, Σ_const, d, m)\n",
    "            real[i, j, p] += cc_prob(n, θ, b)\n",
    "        end\n",
    "    end\n",
    "end"
   ]
  },
  {
   "cell_type": "code",
   "execution_count": 6,
   "metadata": {},
   "outputs": [
    {
     "data": {
      "text/plain": [
       "3×3×1 Array{Float64,3}:\n",
       "[:, :, 1] =\n",
       " 0.0821885  0.0711093  0.0866144\n",
       " 0.0894406  0.078757   0.0667966\n",
       " 0.10583    0.0804581  0.0977669"
      ]
     },
     "execution_count": 6,
     "metadata": {},
     "output_type": "execute_result"
    }
   ],
   "source": [
    "mapslices(mean, abs.((ans1_m1 .- real) ./real), dims = [3])"
   ]
  },
  {
   "cell_type": "code",
   "execution_count": 7,
   "metadata": {},
   "outputs": [
    {
     "data": {
      "text/plain": [
       "3×3 Array{Float64,2}:\n",
       "  6.2652  12.989    33.5099\n",
       " 11.7094  25.605    66.2831\n",
       " 22.4787  50.9509  131.263 "
      ]
     },
     "execution_count": 7,
     "metadata": {},
     "output_type": "execute_result"
    }
   ],
   "source": [
    "time1_m1 / iters"
   ]
  },
  {
   "cell_type": "code",
   "execution_count": 8,
   "metadata": {},
   "outputs": [
    {
     "data": {
      "text/plain": [
       "3×3×1 Array{Float64,3}:\n",
       "[:, :, 1] =\n",
       " 0.0837014  0.070794   0.0859982\n",
       " 0.08914    0.0776718  0.0660967\n",
       " 0.10583    0.0826166  0.099097 "
      ]
     },
     "execution_count": 8,
     "metadata": {},
     "output_type": "execute_result"
    }
   ],
   "source": [
    "mapslices(mean, abs.((ans1_m2 .- real) ./real), dims = [3])"
   ]
  },
  {
   "cell_type": "code",
   "execution_count": 9,
   "metadata": {},
   "outputs": [
    {
     "data": {
      "text/plain": [
       "3×3 Array{Float64,2}:\n",
       " 2.21552  1.96381  1.91069\n",
       " 4.06864  3.81706  3.7708 \n",
       " 8.12049  7.53078  7.37052"
      ]
     },
     "execution_count": 9,
     "metadata": {},
     "output_type": "execute_result"
    }
   ],
   "source": [
    "time1_m2 / iters"
   ]
  },
  {
   "cell_type": "code",
   "execution_count": 10,
   "metadata": {},
   "outputs": [
    {
     "data": {
      "text/plain": [
       "3×3×1 Array{Float64,3}:\n",
       "[:, :, 1] =\n",
       " 0.0850785  0.0710236  0.0869805\n",
       " 0.0951403  0.0792406  0.0699556\n",
       " 0.106798   0.0794499  0.0963232"
      ]
     },
     "execution_count": 10,
     "metadata": {},
     "output_type": "execute_result"
    }
   ],
   "source": [
    "mapslices(mean, abs.((ans1_m3 .- real) ./real), dims = [3])"
   ]
  },
  {
   "cell_type": "code",
   "execution_count": 11,
   "metadata": {},
   "outputs": [
    {
     "data": {
      "text/plain": [
       "3×3 Array{Float64,2}:\n",
       " 2.16931  1.88877  1.82306\n",
       " 4.01321  3.72687  3.63179\n",
       " 8.0559   7.42183  7.25157"
      ]
     },
     "execution_count": 11,
     "metadata": {},
     "output_type": "execute_result"
    }
   ],
   "source": [
    "time1_m3 / iters"
   ]
  },
  {
   "cell_type": "markdown",
   "metadata": {},
   "source": [
    "## 4.3 Simulation with 1D exponential covariance matrix"
   ]
  },
  {
   "cell_type": "code",
   "execution_count": 12,
   "metadata": {},
   "outputs": [],
   "source": [
    "β = 10\n",
    "\n",
    "ans2_m1 = zeros(length(ns), length(ms), iters)\n",
    "time2_m1 = zeros(length(ns), length(ms))\n",
    "ans2_m2 = zeros(length(ns), length(ms), iters)\n",
    "time2_m2 = zeros(length(ns), length(ms))\n",
    "ans2_m3 = zeros(length(ns), length(ms), iters)\n",
    "time2_m3 = zeros(length(ns), length(ms))\n",
    "\n",
    "real_1d = zeros(length(ns), length(ms), iters)\n",
    "\n",
    "for i in 1:length(ns)\n",
    "    n = ns[i]\n",
    "    Σ_1d = Σ_1d_generate(n, β)\n",
    "    L_1d = cholesky(Σ_1d).L\n",
    "    for j in 1:length(ms)\n",
    "        m = ms[j] \n",
    "        for p in 1:iters\n",
    "            a = fill(-Inf, n)\n",
    "            b = rand(Uniform(0, n), n)\n",
    "            time2_m1[i, j] += @elapsed ans2_m1[i, j, p] += HMVN(a, b, Σ_1d, m)\n",
    "            time2_m2[i, j] += @elapsed ans2_m2[i, j, p] += HCMVN(a, b, Σ_1d, d, m)\n",
    "            time2_m3[i, j] += @elapsed ans2_m3[i, j, p] += HRCMVN(a, b, Σ_1d, d, m)\n",
    "            real_1d[i, j, p] += mvn(L_1d, a, b, ns = 10, N = 1000)\n",
    "#             real_1d[i, j, p] += mvn(L_1d, a, b, ns = 100, N = 10000)\n",
    "        end\n",
    "    end\n",
    "end"
   ]
  },
  {
   "cell_type": "code",
   "execution_count": 13,
   "metadata": {},
   "outputs": [
    {
     "data": {
      "text/plain": [
       "3×3×1 Array{Float64,3}:\n",
       "[:, :, 1] =\n",
       " 0.0286787   3.35736e-5  0.000112699\n",
       " 0.00067124  0.0130732   3.83937e-6 \n",
       " 0.0264869   0.00270392  0.00570164 "
      ]
     },
     "execution_count": 13,
     "metadata": {},
     "output_type": "execute_result"
    }
   ],
   "source": [
    "mapslices(mean, abs.((ans2_m1 .- real_1d) ./real_1d), dims = [3])"
   ]
  },
  {
   "cell_type": "code",
   "execution_count": 14,
   "metadata": {},
   "outputs": [
    {
     "data": {
      "text/plain": [
       "3×3 Array{Float64,2}:\n",
       "  5.86971  13.3511   34.678 \n",
       " 11.6257   26.2018   68.2408\n",
       " 23.2674   52.3627  135.158 "
      ]
     },
     "execution_count": 14,
     "metadata": {},
     "output_type": "execute_result"
    }
   ],
   "source": [
    "time2_m1 / iters"
   ]
  },
  {
   "cell_type": "code",
   "execution_count": 15,
   "metadata": {},
   "outputs": [
    {
     "data": {
      "text/plain": [
       "3×3×1 Array{Float64,3}:\n",
       "[:, :, 1] =\n",
       " 0.0328171    6.27471e-5  0.00898169 \n",
       " 0.000727088  0.0130737   0.000135329\n",
       " 0.0264869    0.00283975  0.00570865 "
      ]
     },
     "execution_count": 15,
     "metadata": {},
     "output_type": "execute_result"
    }
   ],
   "source": [
    "mapslices(mean, abs.((ans2_m2 .- real_1d) ./real_1d), dims = [3])"
   ]
  },
  {
   "cell_type": "code",
   "execution_count": 16,
   "metadata": {},
   "outputs": [
    {
     "data": {
      "text/plain": [
       "3×3 Array{Float64,2}:\n",
       " 2.04259  1.93647  1.90565\n",
       " 4.02843  3.73714  3.6629 \n",
       " 7.86726  7.33141  7.17065"
      ]
     },
     "execution_count": 16,
     "metadata": {},
     "output_type": "execute_result"
    }
   ],
   "source": [
    "time2_m2 / iters"
   ]
  },
  {
   "cell_type": "code",
   "execution_count": 17,
   "metadata": {},
   "outputs": [
    {
     "data": {
      "text/plain": [
       "3×3×1 Array{Float64,3}:\n",
       "[:, :, 1] =\n",
       " 0.0473321  0.000887856  0.0211089 \n",
       " 0.0217473  0.019022     0.00160444\n",
       " 0.0372486  0.0125284    0.00657814"
      ]
     },
     "execution_count": 17,
     "metadata": {},
     "output_type": "execute_result"
    }
   ],
   "source": [
    "mapslices(mean, abs.((ans2_m3 .- real_1d) ./real_1d), dims = [3])"
   ]
  },
  {
   "cell_type": "code",
   "execution_count": 18,
   "metadata": {},
   "outputs": [
    {
     "data": {
      "text/plain": [
       "3×3 Array{Float64,2}:\n",
       " 2.03777  1.85493  1.81271\n",
       " 3.97102  3.66528  3.56411\n",
       " 7.91013  7.28373  7.1079 "
      ]
     },
     "execution_count": 18,
     "metadata": {},
     "output_type": "execute_result"
    }
   ],
   "source": [
    "time2_m3 / iters"
   ]
  },
  {
   "cell_type": "markdown",
   "metadata": {},
   "source": [
    "## Save the objects"
   ]
  },
  {
   "cell_type": "code",
   "execution_count": 24,
   "metadata": {},
   "outputs": [],
   "source": [
    "using JLD2, FileIO"
   ]
  },
  {
   "cell_type": "code",
   "execution_count": 22,
   "metadata": {},
   "outputs": [],
   "source": [
    "cd(\"../tables\")"
   ]
  },
  {
   "cell_type": "code",
   "execution_count": 31,
   "metadata": {},
   "outputs": [],
   "source": [
    "@save \"table3_1.jld2\" ans1_m1 ans1_m2 ans1_m3 time1_m1 time1_m2 time1_m3 iters"
   ]
  },
  {
   "cell_type": "code",
   "execution_count": 32,
   "metadata": {},
   "outputs": [],
   "source": [
    "@save \"table3_2.jld2\" ans2_m1 ans2_m2 ans2_m3 time2_m1 time2_m2 time2_m3 iters"
   ]
  }
 ],
 "metadata": {
  "kernelspec": {
   "display_name": "Julia 1.2.0",
   "language": "julia",
   "name": "julia-1.2"
  },
  "language_info": {
   "file_extension": ".jl",
   "mimetype": "application/julia",
   "name": "julia",
   "version": "1.2.0"
  }
 },
 "nbformat": 4,
 "nbformat_minor": 2
}
