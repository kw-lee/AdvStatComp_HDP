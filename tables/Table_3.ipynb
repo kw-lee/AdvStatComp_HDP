{
 "cells": [
  {
   "cell_type": "code",
   "execution_count": 1,
   "metadata": {},
   "outputs": [
    {
     "data": {
      "text/plain": [
       "Σ_1d_generate (generic function with 1 method)"
      ]
     },
     "execution_count": 1,
     "metadata": {},
     "output_type": "execute_result"
    }
   ],
   "source": [
    "using Distributions, LinearAlgebra, Statistics, StatsFuns\n",
    "cd(\"../src/\")\n",
    "include(\"hcmvn.jl\")\n",
    "include(\"hchol.jl\")\n",
    "include(\"generate.jl\")"
   ]
  },
  {
   "cell_type": "markdown",
   "metadata": {},
   "source": [
    "## Settings"
   ]
  },
  {
   "cell_type": "code",
   "execution_count": 2,
   "metadata": {},
   "outputs": [
    {
     "data": {
      "text/plain": [
       "4"
      ]
     },
     "execution_count": 2,
     "metadata": {},
     "output_type": "execute_result"
    }
   ],
   "source": [
    "iters = 20\n",
    "# ns = [512, 1024, 2048]\n",
    "# ms = [16, 32, 64]\n",
    "ns = [32, 128, 256]\n",
    "ms = [16, 32]\n",
    "d = 4"
   ]
  },
  {
   "cell_type": "markdown",
   "metadata": {},
   "source": [
    "## 4.2 Simulation with a constant covariance matrix"
   ]
  },
  {
   "cell_type": "code",
   "execution_count": 3,
   "metadata": {},
   "outputs": [
    {
     "data": {
      "text/plain": [
       "0.7"
      ]
     },
     "execution_count": 3,
     "metadata": {},
     "output_type": "execute_result"
    }
   ],
   "source": [
    "θ = 0.7"
   ]
  },
  {
   "cell_type": "code",
   "execution_count": 4,
   "metadata": {},
   "outputs": [
    {
     "data": {
      "text/plain": [
       "cc_prob (generic function with 1 method)"
      ]
     },
     "execution_count": 4,
     "metadata": {},
     "output_type": "execute_result"
    }
   ],
   "source": [
    "# true value\n",
    "function cc_prob(n::Int, θ::T, b::Array{T, 1}; ns::Int = 10000) where T<:AbstractFloat\n",
    "    # calculate values using MC \n",
    "    s = 0\n",
    "    x = rand(Normal(0, 1), ns)\n",
    "    for i in 1:ns\n",
    "        integ = 1\n",
    "        for j in 1:n\n",
    "            integ *= normcdf((b[j] + sqrt(θ)*x[i])/(1-θ))\n",
    "        end\n",
    "        s += integ\n",
    "    end\n",
    "    return s/ns\n",
    "end"
   ]
  },
  {
   "cell_type": "code",
   "execution_count": null,
   "metadata": {},
   "outputs": [],
   "source": [
    "ans1_m1 = zeros(length(ns), length(ms), iters)\n",
    "time1_m1 = zeros(length(ns), length(ms))\n",
    "ans1_m2 = zeros(length(ns), length(ms), iters)\n",
    "time1_m2 = zeros(length(ns), length(ms))\n",
    "ans1_m3 = zeros(length(ns), length(ms), iters)\n",
    "time1_m3 = zeros(length(ns), length(ms))\n",
    "\n",
    "real = zeros(length(ns), length(ms), iters)\n",
    "\n",
    "for i in 1:length(ns)\n",
    "    n = ns[i]\n",
    "    Σ_const = Σ_const_generate(n, θ)\n",
    "    for j in 1:length(ms)\n",
    "        m = ms[j] \n",
    "        for p in 1:iters\n",
    "            a = fill(-Inf, n)\n",
    "            b = rand(Uniform(0, n), n)\n",
    "            time1_m1[i, j] += @elapsed ans1_m1[i, j, p] += HMVN(a, b, Σ_const, m)\n",
    "            time1_m2[i, j] += @elapsed ans1_m2[i, j, p] += HCMVN(a, b, Σ_const, d, m)\n",
    "            time1_m3[i, j] += @elapsed ans1_m3[i, j, p] += HRCMVN(a, b, Σ_const, d, m)\n",
    "            real[i, j, p] += cc_prob(n, θ, b)\n",
    "        end\n",
    "    end\n",
    "end"
   ]
  },
  {
   "cell_type": "code",
   "execution_count": null,
   "metadata": {},
   "outputs": [],
   "source": [
    "mapslices(mean, abs.((ans1_m1 .- real) ./real), dims = [3])"
   ]
  },
  {
   "cell_type": "code",
   "execution_count": null,
   "metadata": {},
   "outputs": [],
   "source": [
    "time1_m1 / iters"
   ]
  },
  {
   "cell_type": "code",
   "execution_count": null,
   "metadata": {},
   "outputs": [],
   "source": [
    "mapslices(mean, abs.((ans1_m2 .- real) ./real), dims = [3])"
   ]
  },
  {
   "cell_type": "code",
   "execution_count": null,
   "metadata": {},
   "outputs": [],
   "source": [
    "time1_m2 / iters"
   ]
  },
  {
   "cell_type": "code",
   "execution_count": null,
   "metadata": {},
   "outputs": [],
   "source": [
    "mapslices(mean, abs.((ans1_m3 .- real) ./real), dims = [3])"
   ]
  },
  {
   "cell_type": "code",
   "execution_count": null,
   "metadata": {},
   "outputs": [],
   "source": [
    "time1_m3 / iters"
   ]
  },
  {
   "cell_type": "markdown",
   "metadata": {},
   "source": [
    "## 4.3 Simulation with 1D exponential covariance matrix"
   ]
  },
  {
   "cell_type": "code",
   "execution_count": null,
   "metadata": {},
   "outputs": [],
   "source": [
    "β = 10\n",
    "\n",
    "ans2_m1 = zeros(length(ns), length(ms), iters)\n",
    "time2_m1 = zeros(length(ns), length(ms))\n",
    "ans2_m2 = zeros(length(ns), length(ms), iters)\n",
    "time2_m2 = zeros(length(ns), length(ms))\n",
    "ans2_m3 = zeros(length(ns), length(ms), iters)\n",
    "time2_m3 = zeros(length(ns), length(ms))\n",
    "\n",
    "real_1d = zeros(length(ns), length(ms), iters)\n",
    "\n",
    "for i in 1:length(ns)\n",
    "    n = ns[i]\n",
    "    Σ_1d = Σ_1d_generate(n, β)\n",
    "    L_1d = cholesky(Σ_1d).L\n",
    "    for j in 1:length(ms)\n",
    "        m = ms[j] \n",
    "        for p in 1:iters\n",
    "            a = fill(-Inf, n)\n",
    "            b = rand(Uniform(0, n), n)\n",
    "            time2_m1[i, j] += @elapsed ans2_m1[i, j, p] += HMVN(a, b, Σ_1d, m)\n",
    "            time2_m2[i, j] += @elapsed ans2_m2[i, j, p] += HCMVN(a, b, Σ_1d, d, m)\n",
    "            time2_m3[i, j] += @elapsed ans2_m3[i, j, p] += HRCMVN(a, b, Σ_1d, d, m)\n",
    "            real_1d[i, j, p] += mvn(L_1d, a, b, ns = 10, N = 1000)\n",
    "#             real_1d[i, j, p] += mvn(L_1d, a, b, ns = 100, N = 10000)\n",
    "        end\n",
    "    end\n",
    "end"
   ]
  },
  {
   "cell_type": "code",
   "execution_count": null,
   "metadata": {},
   "outputs": [],
   "source": [
    "mapslices(mean, abs.((ans2_m1 .- real_1d) ./real_1d), dims = [3])"
   ]
  },
  {
   "cell_type": "code",
   "execution_count": null,
   "metadata": {},
   "outputs": [],
   "source": [
    "time2_m1 / iters"
   ]
  },
  {
   "cell_type": "code",
   "execution_count": null,
   "metadata": {},
   "outputs": [],
   "source": [
    "mapslices(mean, abs.((ans2_m2 .- real_1d) ./real_1d), dims = [3])"
   ]
  },
  {
   "cell_type": "code",
   "execution_count": null,
   "metadata": {},
   "outputs": [],
   "source": [
    "time2_m2 / iters"
   ]
  },
  {
   "cell_type": "code",
   "execution_count": null,
   "metadata": {},
   "outputs": [],
   "source": [
    "mapslices(mean, abs.((ans2_m3 .- real_1d) ./real_1d), dims = [3])"
   ]
  },
  {
   "cell_type": "code",
   "execution_count": null,
   "metadata": {},
   "outputs": [],
   "source": [
    "time2_m3 / iters"
   ]
  }
 ],
 "metadata": {
  "kernelspec": {
   "display_name": "Julia 1.2.0",
   "language": "julia",
   "name": "julia-1.2"
  },
  "language_info": {
   "file_extension": ".jl",
   "mimetype": "application/julia",
   "name": "julia",
   "version": "1.2.0"
  }
 },
 "nbformat": 4,
 "nbformat_minor": 2
}
