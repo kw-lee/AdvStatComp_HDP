{
 "cells": [
  {
   "cell_type": "code",
   "execution_count": 1,
   "metadata": {},
   "outputs": [],
   "source": [
    "using LinearAlgebra, Distributions, Statistics\n",
    "cd(\"../src/\")\n",
    "include(\"mvn.jl\")\n",
    "include(\"truncnorm.jl\");"
   ]
  },
  {
   "cell_type": "code",
   "execution_count": 2,
   "metadata": {},
   "outputs": [],
   "source": [
    "iters = 20\n",
    "ns = 500:500:2500\n",
    "ds = 4:4:20\n",
    "\n",
    "ans_mc = zeros(length(ns), length(ds), iters)\n",
    "ans_qmc = zeros(length(ns), length(ds), iters)\n",
    "time_mc = zeros(length(ns), length(ds))\n",
    "time_qmc = zeros(length(ns), length(ds))\n",
    "real = zeros(length(ns), length(ds), iters);"
   ]
  },
  {
   "cell_type": "code",
   "execution_count": 3,
   "metadata": {},
   "outputs": [],
   "source": [
    "for i in 1:length(ns)\n",
    "    n = ns[i]\n",
    "    for j in 1:length(ds)\n",
    "        d = ds[j]\n",
    "        Σ = Symmetric(Matrix(1.0LinearAlgebra.I(d)))\n",
    "        μ = zeros(d) \n",
    "        for p in 1:iters\n",
    "            a = fill(-Inf, d)\n",
    "            b = zeros(d)\n",
    "            time_mc[i, j] += @elapsed ans_mc[i, j, p] += cdf_trunnormal(a, b, μ, Σ, cnts = n)\n",
    "            time_qmc[i, j] += @elapsed ans_qmc[i, j, p] += mvn(cholesky(Σ).L, a, b, ns = 10, N = Int(n/10), μ = μ)\n",
    "            real[i, j, p] += (1/2^d)\n",
    "        end\n",
    "    end\n",
    "end"
   ]
  },
  {
   "cell_type": "code",
   "execution_count": 4,
   "metadata": {},
   "outputs": [
    {
     "data": {
      "text/plain": [
       "5×5 Array{Float64,2}:\n",
       " 0.1224     0.568     1.6192   1.0  1.0\n",
       " 0.0952     0.5064    1.9384   1.0  1.0\n",
       " 0.0890667  0.387467  1.50187  1.0  1.0\n",
       " 0.054      0.2648    1.024    1.0  1.0\n",
       " 0.05088    0.31952   1.00112  1.0  1.0"
      ]
     },
     "execution_count": 4,
     "metadata": {},
     "output_type": "execute_result"
    }
   ],
   "source": [
    "mapslices(mean, abs.((ans_mc .- real) ./real), dims = [3])[:,:,1]"
   ]
  },
  {
   "cell_type": "code",
   "execution_count": 5,
   "metadata": {},
   "outputs": [
    {
     "data": {
      "text/plain": [
       "5×5 Array{Float64,2}:\n",
       " 0.0294369   0.00161216  0.00175785  0.00190384  0.00190533\n",
       " 0.00459878  0.00414193  0.00276527  0.00277732  0.00341493\n",
       " 0.00554504  0.0046416   0.00420812  0.00475908  0.0045468 \n",
       " 0.00697469  0.00650891  0.00717504  0.0058015   0.0054994 \n",
       " 0.0073133   0.00923492  0.00812341  0.00833119  0.0075597 "
      ]
     },
     "execution_count": 5,
     "metadata": {},
     "output_type": "execute_result"
    }
   ],
   "source": [
    "time_mc / iters"
   ]
  },
  {
   "cell_type": "code",
   "execution_count": 6,
   "metadata": {},
   "outputs": [
    {
     "data": {
      "text/plain": [
       "5×5 Array{Float64,2}:\n",
       " 0.0  2.22045e-16  4.44089e-16  4.44089e-16  0.0\n",
       " 0.0  2.22045e-16  4.44089e-16  2.22045e-16  0.0\n",
       " 0.0  2.22045e-16  4.44089e-16  2.22045e-16  0.0\n",
       " 0.0  2.22045e-16  2.22045e-16  2.22045e-16  0.0\n",
       " 0.0  2.22045e-16  2.22045e-16  2.22045e-16  0.0"
      ]
     },
     "execution_count": 6,
     "metadata": {},
     "output_type": "execute_result"
    }
   ],
   "source": [
    "mapslices(mean, abs.((ans_qmc .- real) ./real), dims = [3])[:,:,1]"
   ]
  },
  {
   "cell_type": "code",
   "execution_count": 7,
   "metadata": {},
   "outputs": [
    {
     "data": {
      "text/plain": [
       "5×5 Array{Float64,2}:\n",
       " 0.0582784    0.000344842  0.000620749  0.000635939  0.00114078\n",
       " 0.000346188  0.000883852  0.00127415   0.00168425   0.00204112\n",
       " 0.000608265  0.00111924   0.00156333   0.0018929    0.00304108\n",
       " 0.00110053   0.00122327   0.00132245   0.00251298   0.0035908 \n",
       " 0.000874603  0.00217375   0.00331898   0.00375545   0.00559457"
      ]
     },
     "execution_count": 7,
     "metadata": {},
     "output_type": "execute_result"
    }
   ],
   "source": [
    "time_qmc / iters"
   ]
  }
 ],
 "metadata": {
  "kernelspec": {
   "display_name": "Julia 1.2.0",
   "language": "julia",
   "name": "julia-1.2"
  },
  "language_info": {
   "file_extension": ".jl",
   "mimetype": "application/julia",
   "name": "julia",
   "version": "1.2.0"
  }
 },
 "nbformat": 4,
 "nbformat_minor": 2
}
