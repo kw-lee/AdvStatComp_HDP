{
 "cells": [
  {
   "cell_type": "code",
   "execution_count": 1,
   "metadata": {},
   "outputs": [],
   "source": [
    "using JLD2, FileIO"
   ]
  },
  {
   "cell_type": "code",
   "execution_count": 2,
   "metadata": {},
   "outputs": [
    {
     "data": {
      "text/plain": [
       "7-element Array{Symbol,1}:\n",
       " :ans2_m1 \n",
       " :ans2_m2 \n",
       " :ans2_m3 \n",
       " :time2_m1\n",
       " :time2_m2\n",
       " :time2_m3\n",
       " :iters   "
      ]
     },
     "execution_count": 2,
     "metadata": {},
     "output_type": "execute_result"
    }
   ],
   "source": [
    "@load \"table3_1.jld2\" ans1_m1 ans1_m2 ans1_m3 time1_m1 time1_m2 time1_m3 iters\n",
    "@load \"table3_2.jld2\" ans2_m1 ans2_m2 ans2_m3 time2_m1 time2_m2 time2_m3 iters"
   ]
  },
  {
   "cell_type": "code",
   "execution_count": 4,
   "metadata": {},
   "outputs": [
    {
     "name": "stderr",
     "output_type": "stream",
     "text": [
      "┌ Info: Recompiling stale cache file /home/lkw1718/.julia/compiled/v1.2/Plots/ld3vC.ji for Plots [91a5bcdd-55d7-5caf-9e0b-520d859cae80]\n",
      "└ @ Base loading.jl:1240\n",
      "┌ Info: Recompiling stale cache file /home/lkw1718/.julia/compiled/v1.2/PyPlot/oatAj.ji for PyPlot [d330b81b-6aea-500a-939a-2ce795aea3ee]\n",
      "└ @ Base loading.jl:1240\n"
     ]
    },
    {
     "data": {
      "text/plain": [
       "Plots.PyPlotBackend()"
      ]
     },
     "execution_count": 4,
     "metadata": {},
     "output_type": "execute_result"
    }
   ],
   "source": [
    "using Plots\n",
    "pyplot()"
   ]
  },
  {
   "cell_type": "code",
   "execution_count": 5,
   "metadata": {},
   "outputs": [
    {
     "data": {
      "text/plain": [
       "3×3×20 Array{Float64,3}:\n",
       "[:, :, 1] =\n",
       " 1.0       0.999993  0.978118\n",
       " 0.957437  1.0       0.98988 \n",
       " 0.595064  0.932952  0.690776\n",
       "\n",
       "[:, :, 2] =\n",
       " 0.304598  0.631957  0.724761\n",
       " 0.955805  0.949285  0.520167\n",
       " 0.99165   1.0       0.391367\n",
       "\n",
       "[:, :, 3] =\n",
       " 0.926683  1.0       0.999992\n",
       " 0.998351  0.930666  0.949158\n",
       " 0.980941  0.861991  0.999872\n",
       "\n",
       "...\n",
       "\n",
       "[:, :, 18] =\n",
       " 0.999565  1.0       0.997239\n",
       " 0.91269   0.999993  0.390581\n",
       " 0.894179  0.554601  1.0     \n",
       "\n",
       "[:, :, 19] =\n",
       " 0.910672  0.891826  0.814476\n",
       " 0.95903   1.0       0.9976  \n",
       " 0.50717   0.558755  0.849468\n",
       "\n",
       "[:, :, 20] =\n",
       " 0.795644  0.779152  1.0     \n",
       " 1.0       0.856057  0.51952 \n",
       " 0.951686  0.999999  0.880084"
      ]
     },
     "execution_count": 5,
     "metadata": {},
     "output_type": "execute_result"
    }
   ],
   "source": [
    "ans2_m1"
   ]
  }
 ],
 "metadata": {
  "kernelspec": {
   "display_name": "Julia 1.2.0",
   "language": "julia",
   "name": "julia-1.2"
  },
  "language_info": {
   "file_extension": ".jl",
   "mimetype": "application/julia",
   "name": "julia",
   "version": "1.2.0"
  }
 },
 "nbformat": 4,
 "nbformat_minor": 2
}
