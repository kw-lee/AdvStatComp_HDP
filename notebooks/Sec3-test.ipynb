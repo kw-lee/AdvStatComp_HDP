{
 "cells": [
  {
   "cell_type": "code",
   "execution_count": 143,
   "metadata": {},
   "outputs": [],
   "source": [
    "using LinearAlgebra, Distributions, Statistics, SparseArrays"
   ]
  },
  {
   "cell_type": "code",
   "execution_count": 162,
   "metadata": {},
   "outputs": [
    {
     "data": {
      "text/plain": [
       "expt_tnorm"
      ]
     },
     "execution_count": 162,
     "metadata": {},
     "output_type": "execute_result"
    }
   ],
   "source": [
    "include(\"../src/cmvn.jl\")\n",
    "include(\"../src/generate.jl\")\n",
    "include(\"../src/mvn.jl\")"
   ]
  },
  {
   "cell_type": "code",
   "execution_count": 163,
   "metadata": {},
   "outputs": [
    {
     "ename": "UndefVarError",
     "evalue": "UndefVarError: c not defined",
     "output_type": "error",
     "traceback": [
      "UndefVarError: c not defined",
      "",
      "Stacktrace:",
      " [1] mvndns(::Int64, ::Int64, ::LowerTriangular{Float64,Array{Float64,2}}, ::Array{Float64,2}, ::Array{Float64,2}, ::Array{Float64,2}, ::Float64) at /Users/kwlee/Dropbox/lx2/2019Q3/AdvStatComp/project_hdp/src/mvn.jl:33",
      " [2] #mvn#180(::Int64, ::Int64, ::Float64, ::Array{Float64,1}, ::typeof(mvn), ::LowerTriangular{Float64,Array{Float64,2}}, ::Array{Float64,1}, ::Array{Float64,1}) at /Users/kwlee/Dropbox/lx2/2019Q3/AdvStatComp/project_hdp/src/mvn.jl:129",
      " [3] #mvn at ./none:0 [inlined]",
      " [4] #CMVN#176(::Int64, ::Int64, ::Int64, ::Float64, ::typeof(CMVN), ::Symmetric{Float64,Array{Float64,2}}, ::Array{Float64,1}, ::Array{Float64,1}, ::Int64) at /Users/kwlee/Dropbox/lx2/2019Q3/AdvStatComp/project_hdp/src/cmvn.jl:62",
      " [5] (::getfield(Main, Symbol(\"#kw##CMVN\")))(::NamedTuple{(:ns, :N),Tuple{Int64,Int64}}, ::typeof(CMVN), ::Symmetric{Float64,Array{Float64,2}}, ::Array{Float64,1}, ::Array{Float64,1}, ::Int64) at ./none:0",
      " [6] macro expansion at ./util.jl:213 [inlined]",
      " [7] top-level scope at ./In[163]:14"
     ]
    }
   ],
   "source": [
    "iters = 10\n",
    "ms = [16, 32]; ds = [1, 2, 4, 8, 16]\n",
    "ans_1 = zeros(length(ms), length(ds)); time_1 = zeros(length(ms), length(ds))\n",
    "# ans_2 = zeros(length(ms), length(ds)); time_2 = zeros(length(ms), length(ds))\n",
    "\n",
    "for i in 1:length(ms)\n",
    "    for j in 1:length(ds)\n",
    "        m = ms[i]; d = ds[j]\n",
    "        for p in 1:iters\n",
    "            Σ = Σ_generate(m)\n",
    "            a = fill(-Inf, m)\n",
    "            b = rand(Uniform(0, m), m)\n",
    "            if d ≤ 4\n",
    "                time_1[i, j] += @elapsed (ans_1[i, j] += CMVN(Σ, a, b, d, ns = 5, N = 200)[1])\n",
    "#             time_2[i, j] += @elapsed ans_2[i, j] += RCMVN(Σ, a, b, d, m)[1]\n",
    "            elseif d ≤ 8\n",
    "                time_1[i, j] += @elapsed (ans_1[i, j] += CMVN(Σ, a, b, d, ns = 10, N = 400)[1])\n",
    "#             time_2[i, j] += @elapsed ans_2[i, j] += RCMVN(Σ, a, b, d, m)[1]\n",
    "            else\n",
    "                time_1[i, j] += @elapsed (ans_1[i, j] += CMVN(Σ, a, b, d, ns = 10, N = 1000)[1])\n",
    "#             time_2[i, j] += @elapsed ans_2[i, j] += RCMVN(Σ, a, b, d, m)[1]\n",
    "            end\n",
    "        end\n",
    "    end\n",
    "end\n",
    "ans_1 ./= iters; time_1 ./= iters\n",
    "# ans_2 ./= iters; time_2 ./= iters"
   ]
  },
  {
   "cell_type": "code",
   "execution_count": 161,
   "metadata": {},
   "outputs": [
    {
     "data": {
      "text/plain": [
       "2×5 Array{Float64,2}:\n",
       " 0.543199  0.772429  NaN  NaN    0.808352\n",
       " 0.670512  0.590654  NaN  NaN  NaN       "
      ]
     },
     "execution_count": 161,
     "metadata": {},
     "output_type": "execute_result"
    }
   ],
   "source": [
    "# todo: fix NaN issue\n",
    "ans_1"
   ]
  },
  {
   "cell_type": "code",
   "execution_count": 95,
   "metadata": {},
   "outputs": [
    {
     "data": {
      "text/plain": [
       "2×5 Array{Float64,2}:\n",
       " 6.59825e-5   0.00532465  0.0127773  0.0921083  0.555371\n",
       " 0.000150362  0.00869017  0.0221256  0.190253   1.16388 "
      ]
     },
     "execution_count": 95,
     "metadata": {},
     "output_type": "execute_result"
    }
   ],
   "source": [
    "time_1"
   ]
  },
  {
   "cell_type": "code",
   "execution_count": 168,
   "metadata": {},
   "outputs": [],
   "source": [
    "using Random \n",
    "Random.seed!(10);"
   ]
  },
  {
   "cell_type": "code",
   "execution_count": 169,
   "metadata": {},
   "outputs": [
    {
     "ename": "UndefVarError",
     "evalue": "UndefVarError: c not defined",
     "output_type": "error",
     "traceback": [
      "UndefVarError: c not defined",
      "",
      "Stacktrace:",
      " [1] mvndns(::Int64, ::Int64, ::LowerTriangular{Float64,Array{Float64,2}}, ::Array{Float64,2}, ::Array{Float64,2}, ::Array{Float64,2}, ::Float64) at /Users/kwlee/Dropbox/lx2/2019Q3/AdvStatComp/project_hdp/src/mvn.jl:33",
      " [2] #mvn#180(::Int64, ::Int64, ::Float64, ::Array{Float64,1}, ::typeof(mvn), ::LowerTriangular{Float64,Array{Float64,2}}, ::Array{Float64,1}, ::Array{Float64,1}) at /Users/kwlee/Dropbox/lx2/2019Q3/AdvStatComp/project_hdp/src/mvn.jl:129",
      " [3] #mvn at ./none:0 [inlined]",
      " [4] #CMVN#176(::Int64, ::Int64, ::Int64, ::Float64, ::typeof(CMVN), ::Symmetric{Float64,Array{Float64,2}}, ::Array{Float64,1}, ::Array{Float64,1}, ::Int64) at /Users/kwlee/Dropbox/lx2/2019Q3/AdvStatComp/project_hdp/src/cmvn.jl:62",
      " [5] (::getfield(Main, Symbol(\"#kw##CMVN\")))(::NamedTuple{(:ns, :N),Tuple{Int64,Int64}}, ::typeof(CMVN), ::Symmetric{Float64,Array{Float64,2}}, ::Array{Float64,1}, ::Array{Float64,1}, ::Int64) at ./none:0",
      " [6] top-level scope at In[169]:5"
     ]
    }
   ],
   "source": [
    "m = 32; d = 16\n",
    "Σ = Σ_generate(m)\n",
    "a = fill(-Inf, m)\n",
    "b = rand(Uniform(0, m), m)\n",
    "CMVN(Σ, a, b, d, ns = 10, N = 1000)"
   ]
  },
  {
   "cell_type": "code",
   "execution_count": 170,
   "metadata": {},
   "outputs": [
    {
     "data": {
      "text/plain": [
       "([1.0 0.0 … 0.0 0.0; 0.0 1.0 … 0.0 0.0; … ; 0.005570006607063755 -0.12384007628050012 … 1.0 0.0; -0.09415837276017197 0.03215257017896041 … 0.0 1.0], Array{Float64,2}[[0.4328229505912568 0.047261477120845635 … 0.016510750484024627 -0.0012522933165029677; 0.047261477120845635 0.41040008719761584 … -0.07885749679851234 -0.005775578570524403; … ; 0.016510750484024627 -0.07885749679851234 … 0.43615034043576695 -0.05914581271132365; -0.0012522933165029677 -0.005775578570524403 … -0.05914581271132365 0.5267829499639183], [0.28110274515960065 -0.08039868827683813 … -0.018772671981476637 0.0567370181230928; -0.08039868827683813 0.38720248385327727 … 0.02910609804697727 -0.07605819832148084; … ; -0.01877267198147664 0.029106098046977273 … 0.18286661027042594 -0.09904182944590384; 0.0567370181230928 -0.07605819832148084 … -0.09904182944590384 0.35149536925312025]])"
      ]
     },
     "execution_count": 170,
     "metadata": {},
     "output_type": "execute_result"
    }
   ],
   "source": [
    "ns = 10; N = 1000; tol = 1e-8\n",
    "s = Int(m / d)\n",
    "y = zeros(m)\n",
    "P = 1.\n",
    "L, D = LDL(copy(Σ), d)"
   ]
  },
  {
   "cell_type": "code",
   "execution_count": 171,
   "metadata": {},
   "outputs": [
    {
     "ename": "UndefVarError",
     "evalue": "UndefVarError: c not defined",
     "output_type": "error",
     "traceback": [
      "UndefVarError: c not defined",
      "",
      "Stacktrace:",
      " [1] mvndns(::Int64, ::Int64, ::LowerTriangular{Float64,Array{Float64,2}}, ::Array{Float64,2}, ::Array{Float64,2}, ::Array{Float64,2}, ::Float64) at /Users/kwlee/Dropbox/lx2/2019Q3/AdvStatComp/project_hdp/src/mvn.jl:33",
      " [2] #mvn#180(::Int64, ::Int64, ::Float64, ::Array{Float64,1}, ::typeof(mvn), ::LowerTriangular{Float64,Array{Float64,2}}, ::Array{Float64,1}, ::Array{Float64,1}) at /Users/kwlee/Dropbox/lx2/2019Q3/AdvStatComp/project_hdp/src/mvn.jl:129",
      " [3] (::getfield(Main, Symbol(\"#kw##mvn\")))(::NamedTuple{(:ns, :N, :tol),Tuple{Int64,Int64,Float64}}, ::typeof(mvn), ::LowerTriangular{Float64,Array{Float64,2}}, ::Array{Float64,1}, ::Array{Float64,1}) at ./none:0",
      " [4] top-level scope at In[171]:8"
     ]
    }
   ],
   "source": [
    "i = 1\n",
    "j = Int((i - 1) * d)\n",
    "g = L[(j + 1):(j + d), 1:j] * y[1:j]\n",
    "a1 = a[(j + 1):(j + d)] .- g\n",
    "b1 = b[(j + 1):(j + d)] .- g\n",
    "D1 = Symmetric(D[i])\n",
    "L1 = cholesky(D1).L\n",
    "# P *= cdf_trunnormal(a1, b1, zeros(d), copy(Symmetric(D1)))\n",
    "# y[(j + 1):(j + d)] .= ex_trunnormal(a1, b1, zeros(d), copy(Symmetric(D1)))\n",
    "# use ns=10 and N=1000 which is same in Genton2018\n",
    "p_i = mvn(L1, a1, b1, ns = ns, N = N, tol = tol)\n",
    "y_i = expt_tnorm(a1, b1, L1, ns = ns, N = N, tol = tol)\n",
    "\n",
    "P *= p_i\n",
    "y[(j + 1):(j + d)] .= y_i"
   ]
  },
  {
   "cell_type": "code",
   "execution_count": 172,
   "metadata": {},
   "outputs": [
    {
     "ename": "UndefVarError",
     "evalue": "UndefVarError: c not defined",
     "output_type": "error",
     "traceback": [
      "UndefVarError: c not defined",
      "",
      "Stacktrace:",
      " [1] mvndns(::Int64, ::Int64, ::LowerTriangular{Float64,Array{Float64,2}}, ::Array{Float64,2}, ::Array{Float64,2}, ::Array{Float64,2}, ::Float64) at /Users/kwlee/Dropbox/lx2/2019Q3/AdvStatComp/project_hdp/src/mvn.jl:33",
      " [2] #mvn#180(::Int64, ::Int64, ::Float64, ::Array{Float64,1}, ::typeof(mvn), ::LowerTriangular{Float64,Array{Float64,2}}, ::Array{Float64,1}, ::Array{Float64,1}) at /Users/kwlee/Dropbox/lx2/2019Q3/AdvStatComp/project_hdp/src/mvn.jl:129",
      " [3] #mvn at ./none:0 [inlined]",
      " [4] #expt_tnorm#185(::Int64, ::Int64, ::Float64, ::Array{Float64,1}, ::typeof(expt_tnorm), ::Array{Float64,1}, ::Array{Float64,1}, ::LowerTriangular{Float64,Array{Float64,2}}) at /Users/kwlee/Dropbox/lx2/2019Q3/AdvStatComp/project_hdp/src/mvn.jl:171",
      " [5] (::getfield(Main, Symbol(\"#kw##expt_tnorm\")))(::NamedTuple{(:ns, :N, :tol),Tuple{Int64,Int64,Float64}}, ::typeof(expt_tnorm), ::Array{Float64,1}, ::Array{Float64,1}, ::LowerTriangular{Float64,Array{Float64,2}}) at ./none:0",
      " [6] top-level scope at In[172]:1"
     ]
    }
   ],
   "source": [
    "expt_tnorm(a1, b1, L1, ns = ns, N = N, tol = tol)"
   ]
  },
  {
   "cell_type": "code",
   "execution_count": 173,
   "metadata": {},
   "outputs": [
    {
     "data": {
      "text/plain": [
       "16-element Array{Float64,1}:\n",
       " 0.0\n",
       " 0.0\n",
       " 0.0\n",
       " 0.0\n",
       " 0.0\n",
       " 0.0\n",
       " 0.0\n",
       " 0.0\n",
       " 0.0\n",
       " 0.0\n",
       " 0.0\n",
       " 0.0\n",
       " 0.0\n",
       " 0.0\n",
       " 0.0\n",
       " 0.0"
      ]
     },
     "execution_count": 173,
     "metadata": {},
     "output_type": "execute_result"
    }
   ],
   "source": [
    "c = zeros(d)\n",
    "Σ1 = L1 * transpose(L1)\n",
    "μ = zeros(d)"
   ]
  },
  {
   "cell_type": "code",
   "execution_count": 174,
   "metadata": {},
   "outputs": [
    {
     "ename": "UndefVarError",
     "evalue": "UndefVarError: c not defined",
     "output_type": "error",
     "traceback": [
      "UndefVarError: c not defined",
      "",
      "Stacktrace:",
      " [1] mvndns(::Int64, ::Int64, ::LowerTriangular{Float64,Array{Float64,2}}, ::Array{Float64,2}, ::Array{Float64,2}, ::Array{Float64,2}, ::Float64) at /Users/kwlee/Dropbox/lx2/2019Q3/AdvStatComp/project_hdp/src/mvn.jl:33",
      " [2] #mvn#180(::Int64, ::Int64, ::Float64, ::Array{Float64,1}, ::typeof(mvn), ::LowerTriangular{Float64,Array{Float64,2}}, ::Array{Float64,1}, ::Array{Float64,1}) at /Users/kwlee/Dropbox/lx2/2019Q3/AdvStatComp/project_hdp/src/mvn.jl:129",
      " [3] (::getfield(Main, Symbol(\"#kw##mvn\")))(::NamedTuple{(:ns, :N, :tol, :μ),Tuple{Int64,Int64,Float64,Array{Float64,1}}}, ::typeof(mvn), ::LowerTriangular{Float64,Array{Float64,2}}, ::Array{Float64,1}, ::Array{Float64,1}) at ./none:0",
      " [4] top-level scope at ./In[174]:6"
     ]
    }
   ],
   "source": [
    "for l in 1:d\n",
    "    μ1 = copy(μ[1:d .!= l] + Σ1[1:d .!= l, l] * (a1[l] - μ[l]) / Σ1[l, l])\n",
    "    μ2 = copy(μ[1:d .!= l] + Σ1[1:d .!= l, l] * (b1[l] - μ[l]) / Σ1[l, l])\n",
    "    Σl = copy(Symmetric(Σ1[1:d .!= l, 1:d .!= l] - Σ1[l, 1:d .!= l] * transpose(Σ1[1:d .!= l, l]) / Σ1[l, l]))\n",
    "    Ll = cholesky(Σl).L\n",
    "    c[l] = pdf(Normal(μ[l], sqrt(Σ1[l, l])), a1[l]) * \n",
    "        mvn(Ll, a1[1:d .!= l], b1[1:d .!= l], ns = ns, N = N, tol = tol, μ = μ1) - \n",
    "        pdf(Normal(0, sqrt(Σ1[l, l])), b1[l]) * \n",
    "        mvn(Ll, a1[1:d .!= l], b1[1:d .!= l], ns = ns, N = N, tol = tol, μ = μ2)\n",
    "end"
   ]
  },
  {
   "cell_type": "code",
   "execution_count": 175,
   "metadata": {},
   "outputs": [
    {
     "data": {
      "text/plain": [
       "15×15 LowerTriangular{Float64,Array{Float64,2}}:\n",
       "  0.636584      ⋅             ⋅          …    ⋅           ⋅          ⋅      \n",
       "  0.0770167    0.619942       ⋅               ⋅           ⋅          ⋅      \n",
       " -0.0504319   -0.00144694    0.60536          ⋅           ⋅          ⋅      \n",
       "  0.0781843    0.0299597    -0.0366933        ⋅           ⋅          ⋅      \n",
       "  0.0977443   -0.143505      0.043785         ⋅           ⋅          ⋅      \n",
       " -0.12587     -0.0493789    -0.0916771   …    ⋅           ⋅          ⋅      \n",
       " -0.0591913   -0.123959      0.0810631        ⋅           ⋅          ⋅      \n",
       " -0.00827497  -0.0917928     0.0306592        ⋅           ⋅          ⋅      \n",
       "  0.0620673   -0.000413403   0.00649418       ⋅           ⋅          ⋅      \n",
       "  0.0499591    0.0501746     0.100717         ⋅           ⋅          ⋅      \n",
       " -0.138098    -0.0448619     0.00074833  …    ⋅           ⋅          ⋅      \n",
       " -0.0180927    0.144444     -0.0275294        ⋅           ⋅          ⋅      \n",
       " -0.0646662   -0.0373508    -0.115003        0.596149     ⋅          ⋅      \n",
       " -0.126708    -0.0633605     0.00945931     -0.0253394   0.599957    ⋅      \n",
       " -0.00885796  -0.0786579     0.0254308       0.10368    -0.0356939  0.643333"
      ]
     },
     "execution_count": 175,
     "metadata": {},
     "output_type": "execute_result"
    }
   ],
   "source": [
    "l  = 1\n",
    "μ1 = copy(μ[1:d .!= l] + Σ1[1:d .!= l, l] * (a1[l] - μ[l]) / Σ1[l, l])\n",
    "μ2 = copy(μ[1:d .!= l] + Σ1[1:d .!= l, l] * (b1[l] - μ[l]) / Σ1[l, l])\n",
    "Σl = copy(Symmetric(Σ1[1:d .!= l, 1:d .!= l] - Σ1[l, 1:d .!= l] * transpose(Σ1[1:d .!= l, l]) / Σ1[l, l]))\n",
    "Ll = cholesky(Σl).L"
   ]
  },
  {
   "cell_type": "code",
   "execution_count": 176,
   "metadata": {},
   "outputs": [
    {
     "ename": "UndefVarError",
     "evalue": "UndefVarError: c not defined",
     "output_type": "error",
     "traceback": [
      "UndefVarError: c not defined",
      "",
      "Stacktrace:",
      " [1] mvndns(::Int64, ::Int64, ::LowerTriangular{Float64,Array{Float64,2}}, ::Array{Float64,2}, ::Array{Float64,2}, ::Array{Float64,2}, ::Float64) at /Users/kwlee/Dropbox/lx2/2019Q3/AdvStatComp/project_hdp/src/mvn.jl:33",
      " [2] #mvn#180(::Int64, ::Int64, ::Float64, ::Array{Float64,1}, ::typeof(mvn), ::LowerTriangular{Float64,Array{Float64,2}}, ::Array{Float64,1}, ::Array{Float64,1}) at /Users/kwlee/Dropbox/lx2/2019Q3/AdvStatComp/project_hdp/src/mvn.jl:129",
      " [3] (::getfield(Main, Symbol(\"#kw##mvn\")))(::NamedTuple{(:ns, :N, :tol, :μ),Tuple{Int64,Int64,Float64,Array{Float64,1}}}, ::typeof(mvn), ::LowerTriangular{Float64,Array{Float64,2}}, ::Array{Float64,1}, ::Array{Float64,1}) at ./none:0",
      " [4] top-level scope at In[176]:1"
     ]
    }
   ],
   "source": [
    "mvn(Ll, a1[1:d .!= l], b1[1:d .!= l], ns = ns, N = N, tol = tol, μ = μ1)"
   ]
  },
  {
   "cell_type": "code",
   "execution_count": 177,
   "metadata": {},
   "outputs": [
    {
     "data": {
      "text/plain": [
       "15"
      ]
     },
     "execution_count": 177,
     "metadata": {},
     "output_type": "execute_result"
    }
   ],
   "source": [
    "n = size(Ll, 1)"
   ]
  },
  {
   "cell_type": "code",
   "execution_count": 178,
   "metadata": {},
   "outputs": [
    {
     "data": {
      "text/plain": [
       "15-element Array{Float64,1}:\n",
       " 15.340254258608638 \n",
       " 16.421221478933674 \n",
       "  8.405633129917412 \n",
       " 17.3789923921695   \n",
       "  6.89202288716362  \n",
       " 29.841535182374095 \n",
       "  2.8182280368039088\n",
       " 18.687672604452068 \n",
       "  7.53400728708678  \n",
       " 11.293737471216843 \n",
       " 22.649429446930675 \n",
       "  9.337462313877921 \n",
       "  3.3104907442265414\n",
       " 31.31944283963685  \n",
       "  8.487006409689812 "
      ]
     },
     "execution_count": 178,
     "metadata": {},
     "output_type": "execute_result"
    }
   ],
   "source": [
    "a2 = a1[1:d .!= l]\n",
    "b2 = b1[1:d .!= l]"
   ]
  },
  {
   "cell_type": "code",
   "execution_count": 179,
   "metadata": {},
   "outputs": [],
   "source": [
    "for i in 1:n\n",
    "    if a2[i] != -Inf\n",
    "        a2[i] = a2[i] - μ1[i]\n",
    "    end\n",
    "\n",
    "    if b2[i] != Inf\n",
    "        b2[i] = b2[i] - μ1[i]\n",
    "    end\n",
    "end"
   ]
  },
  {
   "cell_type": "code",
   "execution_count": 180,
   "metadata": {},
   "outputs": [
    {
     "data": {
      "text/plain": [
       "15×1000 Array{Float64,2}:\n",
       "  Inf   Inf   Inf   Inf   Inf   Inf  …   Inf   Inf   Inf   Inf   Inf   Inf\n",
       "  Inf   Inf   Inf   Inf   Inf   Inf      Inf   Inf   Inf   Inf   Inf   Inf\n",
       "  Inf   Inf   Inf   Inf   Inf   Inf      Inf   Inf   Inf   Inf   Inf   Inf\n",
       " -Inf  -Inf  -Inf  -Inf  -Inf  -Inf     -Inf  -Inf  -Inf  -Inf  -Inf  -Inf\n",
       " -Inf  -Inf  -Inf  -Inf  -Inf  -Inf     -Inf  -Inf  -Inf  -Inf  -Inf  -Inf\n",
       " -Inf  -Inf  -Inf  -Inf  -Inf  -Inf  …  -Inf  -Inf  -Inf  -Inf  -Inf  -Inf\n",
       "  Inf   Inf   Inf   Inf   Inf   Inf      Inf   Inf   Inf   Inf   Inf   Inf\n",
       " -Inf  -Inf  -Inf  -Inf  -Inf  -Inf     -Inf  -Inf  -Inf  -Inf  -Inf  -Inf\n",
       "  Inf   Inf   Inf   Inf   Inf   Inf      Inf   Inf   Inf   Inf   Inf   Inf\n",
       " -Inf  -Inf  -Inf  -Inf  -Inf  -Inf     -Inf  -Inf  -Inf  -Inf  -Inf  -Inf\n",
       "  Inf   Inf   Inf   Inf   Inf   Inf  …   Inf   Inf   Inf   Inf   Inf   Inf\n",
       "  Inf   Inf   Inf   Inf   Inf   Inf      Inf   Inf   Inf   Inf   Inf   Inf\n",
       "  Inf   Inf   Inf   Inf   Inf   Inf      Inf   Inf   Inf   Inf   Inf   Inf\n",
       "  Inf   Inf   Inf   Inf   Inf   Inf      Inf   Inf   Inf   Inf   Inf   Inf\n",
       " -Inf  -Inf  -Inf  -Inf  -Inf  -Inf     -Inf  -Inf  -Inf  -Inf  -Inf  -Inf"
      ]
     },
     "execution_count": 180,
     "metadata": {},
     "output_type": "execute_result"
    }
   ],
   "source": [
    "T = Float64\n",
    "values = Vector{T}(undef, ns) \n",
    "X = Matrix{T}(undef, n, N)\n",
    "ax = reshape(repeat(a2, N), n, N)\n",
    "bx = reshape(repeat(b2, N), n, N)"
   ]
  },
  {
   "cell_type": "code",
   "execution_count": 181,
   "metadata": {},
   "outputs": [
    {
     "data": {
      "text/plain": [
       "15-element Array{Int64,1}:\n",
       "  2\n",
       "  3\n",
       "  5\n",
       "  7\n",
       " 11\n",
       " 13\n",
       " 17\n",
       " 19\n",
       " 23\n",
       " 29\n",
       " 31\n",
       " 37\n",
       " 41\n",
       " 43\n",
       " 47"
      ]
     },
     "execution_count": 181,
     "metadata": {},
     "output_type": "execute_result"
    }
   ],
   "source": [
    "using Primes\n",
    "if n == 2\n",
    "    prime_n = [2, 3]\n",
    "else\n",
    "    prime_n = Primes.primes(Int(floor(5*n*log(n+1)/4)))\n",
    "end"
   ]
  },
  {
   "cell_type": "code",
   "execution_count": 182,
   "metadata": {},
   "outputs": [],
   "source": [
    "q = Vector{T}(undef, n)\n",
    "for i in 1:n\n",
    "    q[i] = sqrt(prime_n[i])\n",
    "end"
   ]
  },
  {
   "cell_type": "code",
   "execution_count": 183,
   "metadata": {},
   "outputs": [
    {
     "data": {
      "text/plain": [
       "15-element Array{Float64,1}:\n",
       " 1.4142135623730951\n",
       " 1.7320508075688772\n",
       " 2.23606797749979  \n",
       " 2.6457513110645907\n",
       " 3.3166247903554   \n",
       " 3.605551275463989 \n",
       " 4.123105625617661 \n",
       " 4.358898943540674 \n",
       " 4.795831523312719 \n",
       " 5.385164807134504 \n",
       " 5.5677643628300215\n",
       " 6.082762530298219 \n",
       " 6.4031242374328485\n",
       " 6.557438524302    \n",
       " 6.855654600401044 "
      ]
     },
     "execution_count": 183,
     "metadata": {},
     "output_type": "execute_result"
    }
   ],
   "source": [
    "q"
   ]
  },
  {
   "cell_type": "code",
   "execution_count": 184,
   "metadata": {},
   "outputs": [
    {
     "ename": "UndefVarError",
     "evalue": "UndefVarError: c not defined",
     "output_type": "error",
     "traceback": [
      "UndefVarError: c not defined",
      "",
      "Stacktrace:",
      " [1] mvndns(::Int64, ::Int64, ::LowerTriangular{Float64,Array{Float64,2}}, ::Array{Float64,2}, ::Array{Float64,2}, ::Array{Float64,2}, ::Float64) at /Users/kwlee/Dropbox/lx2/2019Q3/AdvStatComp/project_hdp/src/mvn.jl:33",
      " [2] top-level scope at In[184]:6"
     ]
    }
   ],
   "source": [
    "xr = rand(T, n, 1) # xr ~ U(0,1)\n",
    "for j in 1:N\n",
    "    X[:,j] = q * (1+j) + xr\n",
    "end\n",
    "X = map(x->abs(2*(x-floor(x))-1), X)\n",
    "p = mvndns(n, N, Ll, X, ax, bx, tol)"
   ]
  },
  {
   "cell_type": "code",
   "execution_count": 187,
   "metadata": {},
   "outputs": [
    {
     "data": {
      "text/plain": [
       "mvndns (generic function with 1 method)"
      ]
     },
     "execution_count": 187,
     "metadata": {},
     "output_type": "execute_result"
    }
   ],
   "source": [
    "mvndns"
   ]
  },
  {
   "cell_type": "code",
   "execution_count": 188,
   "metadata": {},
   "outputs": [
    {
     "ename": "UndefVarError",
     "evalue": "UndefVarError: c not defined",
     "output_type": "error",
     "traceback": [
      "UndefVarError: c not defined",
      "",
      "Stacktrace:",
      " [1] mvndns(::Int64, ::Int64, ::LowerTriangular{Float64,Array{Float64,2}}, ::Array{Float64,2}, ::Array{Float64,2}, ::Array{Float64,2}, ::Float64) at /Users/kwlee/Dropbox/lx2/2019Q3/AdvStatComp/project_hdp/src/mvn.jl:33",
      " [2] top-level scope at In[188]:1"
     ]
    }
   ],
   "source": [
    "mvndns(n, N, Ll, X, ax, bx, tol)"
   ]
  },
  {
   "cell_type": "markdown",
   "metadata": {},
   "source": [
    "`mvndns()` 함수에서 문제가 발생하고 있는 것으로 보임\n",
    "\n",
    "`c` not defined error?"
   ]
  }
 ],
 "metadata": {
  "kernelspec": {
   "display_name": "Julia 1.2.0",
   "language": "julia",
   "name": "julia-1.2"
  },
  "language_info": {
   "file_extension": ".jl",
   "mimetype": "application/julia",
   "name": "julia",
   "version": "1.2.0"
  }
 },
 "nbformat": 4,
 "nbformat_minor": 2
}
