{
 "cells": [
  {
   "cell_type": "code",
   "execution_count": 1,
   "metadata": {},
   "outputs": [],
   "source": [
    "using LinearAlgebra, Distributions, Statistics"
   ]
  },
  {
   "cell_type": "code",
   "execution_count": 22,
   "metadata": {},
   "outputs": [
    {
     "data": {
      "text/plain": [
       "RCMVN (generic function with 1 method)"
      ]
     },
     "execution_count": 22,
     "metadata": {},
     "output_type": "execute_result"
    }
   ],
   "source": [
    "include(\"../src/cao2019.jl\")"
   ]
  },
  {
   "cell_type": "code",
   "execution_count": 58,
   "metadata": {},
   "outputs": [
    {
     "data": {
      "text/plain": [
       "(0.5824284428107045, [2.1022066375021207e-14, 2.1022066375021207e-14, 3.020133145511626e-16, 3.020133145511626e-16, 0.0, 0.0, 8.573248217379685e-7, 8.573248217379685e-7])"
      ]
     },
     "execution_count": 58,
     "metadata": {},
     "output_type": "execute_result"
    }
   ],
   "source": [
    "m = 8; d = 2\n",
    "Σ = Σ_generate(m)\n",
    "a = fill(-Inf, m)\n",
    "b = rand(Uniform(0, m), m)\n",
    "CMVN(Σ, a, b, d, m)"
   ]
  },
  {
   "cell_type": "code",
   "execution_count": 59,
   "metadata": {},
   "outputs": [
    {
     "data": {
      "text/plain": [
       "([1.0 0.0 … 0.0 0.0; 0.0 1.0 … 0.0 0.0; … ; 0.022176353772189083 0.36028379648534525 … 1.0 0.0; -0.1422318904917367 0.012758366378214779 … 0.0 1.0], [0.32638105209619106 0.07014344502339027 … 0.0 0.0; 0.07014344502339027 0.45992808560215825 … 0.0 0.0; … ; 0.0 0.0 … 0.3553355156189327 -0.1288192593601408; 0.0 0.0 … -0.1288192593601408 0.7239223204996089])"
      ]
     },
     "execution_count": 59,
     "metadata": {},
     "output_type": "execute_result"
    }
   ],
   "source": [
    "    s = Int(m / d)\n",
    "    y = zeros(m)\n",
    "    P = 1.\n",
    "    L, D = LDL(copy(Σ), m, d)"
   ]
  },
  {
   "cell_type": "code",
   "execution_count": 60,
   "metadata": {},
   "outputs": [
    {
     "data": {
      "text/plain": [
       "8×8 Array{Float64,2}:\n",
       " 0.326381   0.0701434   0.0           0.0         …   0.0         0.0        \n",
       " 0.0701434  0.459928    0.0           0.0             0.0         0.0        \n",
       " 0.0        0.0         0.65603      -0.0554238       0.111683   -0.000988594\n",
       " 0.0        0.0        -0.0554238     0.674219       -0.147487   -0.166005   \n",
       " 0.0        0.0         0.0529583    -0.0124057      -0.0344284  -0.106467   \n",
       " 0.0        0.0         0.0262063     0.00116478  …   0.059026    0.0120978  \n",
       " 0.0        0.0         0.111683     -0.147487        0.355336   -0.128819   \n",
       " 0.0        0.0        -0.000988594  -0.166005       -0.128819    0.723922   "
      ]
     },
     "execution_count": 60,
     "metadata": {},
     "output_type": "execute_result"
    }
   ],
   "source": [
    "D"
   ]
  },
  {
   "cell_type": "code",
   "execution_count": 29,
   "metadata": {},
   "outputs": [
    {
     "name": "stdout",
     "output_type": "stream",
     "text": [
      "161\n",
      "162\n"
     ]
    },
    {
     "ename": "PosDefException",
     "evalue": "PosDefException: matrix is not Hermitian; Cholesky factorization failed.",
     "output_type": "error",
     "traceback": [
      "PosDefException: matrix is not Hermitian; Cholesky factorization failed.",
      "",
      "Stacktrace:",
      " [1] checkpositivedefinite(::Int64) at /Users/sabae/buildbot/worker/package_macos64/build/usr/share/julia/stdlib/v1.2/LinearAlgebra/src/factorization.jl:11",
      " [2] #cholesky!#112(::Bool, ::typeof(cholesky!), ::Array{Float64,2}, ::Val{false}) at /Users/sabae/buildbot/worker/package_macos64/build/usr/share/julia/stdlib/v1.2/LinearAlgebra/src/cholesky.jl:182",
      " [3] #cholesky! at ./none:0 [inlined] (repeats 2 times)",
      " [4] #cholesky#116 at /Users/sabae/buildbot/worker/package_macos64/build/usr/share/julia/stdlib/v1.2/LinearAlgebra/src/cholesky.jl:275 [inlined]",
      " [5] cholesky at /Users/sabae/buildbot/worker/package_macos64/build/usr/share/julia/stdlib/v1.2/LinearAlgebra/src/cholesky.jl:275 [inlined] (repeats 2 times)",
      " [6] CMVN(::Symmetric{Float64,Array{Float64,2}}, ::Array{Float64,1}, ::Array{Float64,1}, ::Int64, ::Int64) at /Users/kwlee/Dropbox/lx2/2019Q3/AdvStatComp/project_hdp/src/cao2019.jl:45",
      " [7] top-level scope at ./util.jl:213"
     ]
    }
   ],
   "source": [
    "iters = 250\n",
    "ms = [16, 32]; ds = [1, 2, 4, 8, 16]\n",
    "ans_1 = zeros(length(ms), length(ds)); time_1 = zeros(length(ms), length(ds))\n",
    "ans_2 = zeros(length(ms), length(ds)); time_2 = zeros(length(ms), length(ds))\n",
    "\n",
    "for i in 1:length(ms)\n",
    "    for j in 1:length(ds)\n",
    "        m = ms[i]; d = ds[j]\n",
    "        println(m, d)\n",
    "        for p in 1:iters\n",
    "            Σ = Σ_generate(m)\n",
    "            a = fill(-Inf, m)\n",
    "            b = rand(Uniform(0, m), m)\n",
    "            time_1[i, j] += @elapsed ans_1[i, j] += CMVN(Σ, a, b, d, m)[1]\n",
    "            time_2[i, j] += @elapsed ans_2[i, j] += RCMVN(Σ, a, b, d, m)[1]\n",
    "        end\n",
    "    end\n",
    "end\n",
    "ans_1 ./= iters; time_1 ./= iters\n",
    "ans_2 ./= iters; time_2 ./= iters"
   ]
  },
  {
   "cell_type": "code",
   "execution_count": 9,
   "metadata": {},
   "outputs": [
    {
     "data": {
      "text/plain": [
       "4×5 Array{Float64,2}:\n",
       " 0.796505  0.790106  0.744898  0.757142  0.763244\n",
       " 0.79294   0.795603  0.799778  0.748595  0.771389\n",
       " 0.795454  0.797203  0.761744  0.781774  0.774206\n",
       " 0.771363  0.774111  0.779079  0.772615  0.787353"
      ]
     },
     "execution_count": 9,
     "metadata": {},
     "output_type": "execute_result"
    }
   ],
   "source": [
    "ans_1"
   ]
  },
  {
   "cell_type": "code",
   "execution_count": 10,
   "metadata": {},
   "outputs": [
    {
     "data": {
      "text/plain": [
       "4×5 Array{Float64,2}:\n",
       " 0.878787  0.870232  0.768169  0.835823  0.931738\n",
       " 1.69668   1.72158   1.53412   1.51159   1.65992 \n",
       " 3.5116    3.45296   3.10521   3.04589   3.29766 \n",
       " 6.79749   6.96986   6.12449   5.99862   6.59756 "
      ]
     },
     "execution_count": 10,
     "metadata": {},
     "output_type": "execute_result"
    }
   ],
   "source": [
    "time_1"
   ]
  },
  {
   "cell_type": "code",
   "execution_count": 11,
   "metadata": {},
   "outputs": [
    {
     "data": {
      "text/plain": [
       "4×5 Array{Float64,2}:\n",
       " 0.795339  0.788527  0.74479   0.756972  0.762919\n",
       " 0.794195  0.795849  0.799149  0.748423  0.772367\n",
       " 0.794212  0.797515  0.762233  0.781643  0.773981\n",
       " 0.770848  0.775071  0.779909  0.772041  0.787305"
      ]
     },
     "execution_count": 11,
     "metadata": {},
     "output_type": "execute_result"
    }
   ],
   "source": [
    "ans_2"
   ]
  },
  {
   "cell_type": "code",
   "execution_count": 12,
   "metadata": {},
   "outputs": [
    {
     "data": {
      "text/plain": [
       "4×5 Array{Float64,2}:\n",
       " 0.874459  0.87119  0.772278  0.825405  0.890534\n",
       " 1.70076   1.72084  1.53631   1.51634   1.66227 \n",
       " 3.43803   3.46523  3.11108   3.03534   3.30214 \n",
       " 6.92552   7.01506  6.15967   6.0102    6.63187 "
      ]
     },
     "execution_count": 12,
     "metadata": {},
     "output_type": "execute_result"
    }
   ],
   "source": [
    "time_2"
   ]
  }
 ],
 "metadata": {
  "kernelspec": {
   "display_name": "Julia 1.2.0",
   "language": "julia",
   "name": "julia-1.2"
  },
  "language_info": {
   "file_extension": ".jl",
   "mimetype": "application/julia",
   "name": "julia",
   "version": "1.2.0"
  }
 },
 "nbformat": 4,
 "nbformat_minor": 2
}
