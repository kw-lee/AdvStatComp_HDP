{
 "cells": [
  {
   "cell_type": "code",
   "execution_count": 1,
   "metadata": {},
   "outputs": [],
   "source": [
    "using LinearAlgebra, Distributions, Statistics, SparseArrays"
   ]
  },
  {
   "cell_type": "code",
   "execution_count": 2,
   "metadata": {},
   "outputs": [
    {
     "data": {
      "text/plain": [
       "expt_tnorm"
      ]
     },
     "execution_count": 2,
     "metadata": {},
     "output_type": "execute_result"
    }
   ],
   "source": [
    "include(\"../src/cmvn.jl\")\n",
    "include(\"../src/generate.jl\")\n",
    "include(\"../src/mvn.jl\")"
   ]
  },
  {
   "cell_type": "code",
   "execution_count": 3,
   "metadata": {},
   "outputs": [
    {
     "data": {
      "text/plain": [
       "2×5 Array{Float64,2}:\n",
       " 0.00137262   0.00798679  0.0109655  0.094489  0.532558\n",
       " 0.000146171  0.00757186  0.0204123  0.234775  1.12486 "
      ]
     },
     "execution_count": 3,
     "metadata": {},
     "output_type": "execute_result"
    }
   ],
   "source": [
    "iters = 10\n",
    "ms = [16, 32]; ds = [1, 2, 4, 8, 16]\n",
    "ans_1 = zeros(length(ms), length(ds)); time_1 = zeros(length(ms), length(ds))\n",
    "# ans_2 = zeros(length(ms), length(ds)); time_2 = zeros(length(ms), length(ds))\n",
    "\n",
    "for i in 1:length(ms)\n",
    "    for j in 1:length(ds)\n",
    "        m = ms[i]; d = ds[j]\n",
    "        for p in 1:iters\n",
    "            Σ = Σ_generate(m)\n",
    "            a = fill(-Inf, m)\n",
    "            b = rand(Uniform(0, m), m)\n",
    "            if d ≤ 4\n",
    "                time_1[i, j] += @elapsed (ans_1[i, j] += CMVN(Σ, a, b, d, ns = 5, N = 200)[1])\n",
    "#             time_2[i, j] += @elapsed ans_2[i, j] += RCMVN(Σ, a, b, d, m)[1]\n",
    "            elseif d ≤ 8\n",
    "                time_1[i, j] += @elapsed (ans_1[i, j] += CMVN(Σ, a, b, d, ns = 10, N = 400)[1])\n",
    "#             time_2[i, j] += @elapsed ans_2[i, j] += RCMVN(Σ, a, b, d, m)[1]\n",
    "            else\n",
    "                time_1[i, j] += @elapsed (ans_1[i, j] += CMVN(Σ, a, b, d, ns = 10, N = 1000)[1])\n",
    "#             time_2[i, j] += @elapsed ans_2[i, j] += RCMVN(Σ, a, b, d, m)[1]\n",
    "            end\n",
    "        end\n",
    "    end\n",
    "end\n",
    "ans_1 ./= iters; time_1 ./= iters\n",
    "# ans_2 ./= iters; time_2 ./= iters"
   ]
  },
  {
   "cell_type": "code",
   "execution_count": 4,
   "metadata": {},
   "outputs": [
    {
     "data": {
      "text/plain": [
       "2×5 Array{Float64,2}:\n",
       " 0.639989  0.840737  NaN  NaN    0.824595\n",
       " 0.610716  0.781834  NaN  NaN  NaN       "
      ]
     },
     "execution_count": 4,
     "metadata": {},
     "output_type": "execute_result"
    }
   ],
   "source": [
    "# todo: fix NaN issue\n",
    "ans_1"
   ]
  },
  {
   "cell_type": "code",
   "execution_count": 5,
   "metadata": {},
   "outputs": [
    {
     "data": {
      "text/plain": [
       "2×5 Array{Float64,2}:\n",
       " 0.00137262   0.00798679  0.0109655  0.094489  0.532558\n",
       " 0.000146171  0.00757186  0.0204123  0.234775  1.12486 "
      ]
     },
     "execution_count": 5,
     "metadata": {},
     "output_type": "execute_result"
    }
   ],
   "source": [
    "time_1"
   ]
  }
 ],
 "metadata": {
  "kernelspec": {
   "display_name": "Julia 1.2.0",
   "language": "julia",
   "name": "julia-1.2"
  },
  "language_info": {
   "file_extension": ".jl",
   "mimetype": "application/julia",
   "name": "julia",
   "version": "1.2.0"
  }
 },
 "nbformat": 4,
 "nbformat_minor": 2
}
