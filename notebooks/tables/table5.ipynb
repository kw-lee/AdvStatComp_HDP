{
 "cells": [
  {
   "cell_type": "code",
   "execution_count": 1,
   "metadata": {},
   "outputs": [
    {
     "data": {
      "text/plain": [
       "Σ_morton_generate"
      ]
     },
     "execution_count": 1,
     "metadata": {},
     "output_type": "execute_result"
    }
   ],
   "source": [
    "using Distributions, LinearAlgebra, Statistics, StatsFuns\n",
    "cd(\"../src/\")\n",
    "include(\"hcmvn.jl\")\n",
    "include(\"hchol.jl\")\n",
    "include(\"generate.jl\")"
   ]
  },
  {
   "cell_type": "code",
   "execution_count": 2,
   "metadata": {},
   "outputs": [],
   "source": [
    "iters = 20\n",
    "# ns = [512, 1024, 2048]\n",
    "ns = [4^2, 8^2, 16^2]\n",
    "m = 8\n",
    "βs = [0.3, 0.1, 0.03];"
   ]
  },
  {
   "cell_type": "code",
   "execution_count": 3,
   "metadata": {},
   "outputs": [],
   "source": [
    "# beta1\n",
    "ans_arr = zeros(length(ns), length(βs), iters, 5)\n",
    "time_arr = zeros(length(ns), length(βs), 5)\n",
    "real_arr = zeros(length(ns), length(βs), iters)\n",
    "h_size_arr = zeros(length(ns), length(βs), iters);"
   ]
  },
  {
   "cell_type": "code",
   "execution_count": 4,
   "metadata": {},
   "outputs": [],
   "source": [
    "for i in 1:length(ns)\n",
    "    n = ns[i]\n",
    "    for p in 1:iters\n",
    "        for j in 1:length(βs)\n",
    "            Σ_morton = Σ_morton_generate(n, βs[j])\n",
    "            a = fill(-Inf, n)\n",
    "            b = rand(Uniform(0, n), n)\n",
    "            \n",
    "            B, UV = hchol(Σ_morton, m)\n",
    "            h_size_arr[i, j, p] += (Base.summarysize(UV) + Base.summarysize(B)) / Base.summarysize(Σ_morton)\n",
    "        \n",
    "            time_arr[i, j, 1] += @elapsed ans_arr[i, j, p, 1] += mvn(cholesky(Σ_morton).L, a, b, ns = 5, N = 1000)\n",
    "            time_arr[i, j, 2] += @elapsed ans_arr[i, j, p, 2] += HMVN(a, b, Σ_morton, m, ns = 5, N = 1000)\n",
    "            time_arr[i, j, 3] += @elapsed ans_arr[i, j, p, 3] += HCMVN(a, b, Σ_morton, 1, m, ns = 5, N = 1000)\n",
    "            time_arr[i, j, 4] += @elapsed ans_arr[i, j, p, 4] += HCMVN(a, b, Σ_morton, 2, m, ns = 5, N = 1000)\n",
    "            time_arr[i, j, 5] += @elapsed ans_arr[i, j, p, 5] += HCMVN(a, b, Σ_morton, 4, m, ns = 5, N = 1000)\n",
    "            \n",
    "            real_arr[i, j, p] += mvn(cholesky(Σ_morton).L, a, b, ns = 10, N = 2000)\n",
    "        end\n",
    "    end\n",
    "end"
   ]
  },
  {
   "cell_type": "code",
   "execution_count": 5,
   "metadata": {},
   "outputs": [
    {
     "data": {
      "text/plain": [
       "3×3×20 Array{Float64,3}:\n",
       "[:, :, 1] =\n",
       " 0.885932  0.885932  0.885932\n",
       " 0.559834  0.559834  0.419449\n",
       " 0.277207  0.277207  0.199091\n",
       "\n",
       "[:, :, 2] =\n",
       " 0.885932  0.885932  0.885932\n",
       " 0.559834  0.559834  0.419449\n",
       " 0.277207  0.277207  0.199091\n",
       "\n",
       "[:, :, 3] =\n",
       " 0.885932  0.885932  0.885932\n",
       " 0.559834  0.559834  0.419449\n",
       " 0.277207  0.277207  0.199091\n",
       "\n",
       "...\n",
       "\n",
       "[:, :, 18] =\n",
       " 0.885932  0.885932  0.885932\n",
       " 0.559834  0.559834  0.419449\n",
       " 0.277207  0.277207  0.199091\n",
       "\n",
       "[:, :, 19] =\n",
       " 0.885932  0.885932  0.885932\n",
       " 0.559834  0.559834  0.419449\n",
       " 0.277207  0.277207  0.199091\n",
       "\n",
       "[:, :, 20] =\n",
       " 0.885932  0.885932  0.885932\n",
       " 0.559834  0.559834  0.419449\n",
       " 0.277207  0.277207  0.199091"
      ]
     },
     "execution_count": 5,
     "metadata": {},
     "output_type": "execute_result"
    }
   ],
   "source": [
    "h_size_arr"
   ]
  },
  {
   "cell_type": "code",
   "execution_count": 6,
   "metadata": {},
   "outputs": [
    {
     "data": {
      "text/plain": [
       "3×3×5 Array{Float64,3}:\n",
       "[:, :, 1] =\n",
       "  1.72072   0.273753   0.2772 \n",
       "  1.43788   1.4349     1.45798\n",
       " 14.8912   14.7513    14.9451 \n",
       "\n",
       "[:, :, 2] =\n",
       "  4.10774   2.32233   2.32195\n",
       "  8.43881   8.41597   8.61391\n",
       " 30.1833   30.1243   30.1369 \n",
       "\n",
       "[:, :, 3] =\n",
       " 0.921364   0.00899981  0.00874537\n",
       " 0.0520604  0.0500322   0.0441492 \n",
       " 0.262972   0.295667    0.249295  \n",
       "\n",
       "[:, :, 4] =\n",
       "  0.761298   0.750492   0.753395\n",
       "  2.76687    2.78241    2.83633 \n",
       " 10.4144    10.3822    10.3385  \n",
       "\n",
       "[:, :, 5] =\n",
       "  1.60064   1.57894   1.56304\n",
       "  5.54095   5.54977   5.60384\n",
       " 20.5864   20.652    20.452  "
      ]
     },
     "execution_count": 6,
     "metadata": {},
     "output_type": "execute_result"
    }
   ],
   "source": [
    "time_arr"
   ]
  },
  {
   "cell_type": "code",
   "execution_count": 7,
   "metadata": {},
   "outputs": [
    {
     "data": {
      "text/plain": [
       "302.6620518219999"
      ]
     },
     "execution_count": 7,
     "metadata": {},
     "output_type": "execute_result"
    }
   ],
   "source": [
    "sum(time_arr)"
   ]
  },
  {
   "cell_type": "code",
   "execution_count": 8,
   "metadata": {},
   "outputs": [],
   "source": [
    "using JLD2, FileIO\n",
    "cd(\"../tables\")"
   ]
  },
  {
   "cell_type": "code",
   "execution_count": 10,
   "metadata": {},
   "outputs": [],
   "source": [
    "@save \"table5.jld2\" ans_arr time_arr real_arr h_size_arr iters"
   ]
  }
 ],
 "metadata": {
  "kernelspec": {
   "display_name": "Julia 1.2.0",
   "language": "julia",
   "name": "julia-1.2"
  },
  "language_info": {
   "file_extension": ".jl",
   "mimetype": "application/julia",
   "name": "julia",
   "version": "1.2.0"
  }
 },
 "nbformat": 4,
 "nbformat_minor": 2
}
