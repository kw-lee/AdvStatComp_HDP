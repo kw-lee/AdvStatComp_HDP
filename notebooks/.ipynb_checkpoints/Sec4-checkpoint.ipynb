{
 "cells": [
  {
   "cell_type": "code",
   "execution_count": 1,
   "metadata": {},
   "outputs": [],
   "source": [
    "using LinearAlgebra, Distributions, Statistics"
   ]
  },
  {
   "cell_type": "code",
   "execution_count": 1,
   "metadata": {},
   "outputs": [
    {
     "data": {
      "text/plain": [
       "RCMVN (generic function with 1 method)"
      ]
     },
     "execution_count": 1,
     "metadata": {},
     "output_type": "execute_result"
    }
   ],
   "source": [
    "include(\"../src/cao2019.jl\")"
   ]
  },
  {
   "cell_type": "markdown",
   "metadata": {},
   "source": [
    "## todo: \n",
    "\n",
    "* implement algorithm 4 in Cao2019\n",
    "* load `choldecomp_hmatrix` from http://www.h2lib.org/\n",
    "* write `row_offset()` and `col_offset()`\n",
    "* define `hcmvn_comv_func` such as `hcmvn_MC`, `hcmvn_CMVN` or with case/switch statement\n",
    "* move function to src folder\n",
    "* reproduce table 4 and 5"
   ]
  },
  {
   "cell_type": "code",
   "execution_count": null,
   "metadata": {},
   "outputs": [],
   "source": [
    "function hcmvn(a::Array{Float64, 1}, b::Array{Float64, 1}, Σ::Symetric{Float64, Array{Float64, 2}}, \n",
    "        d::Int64, n::Int64; cmvn_func = CMVN)\n",
    "    \"\"\"\n",
    "        Algorithm 4 in Cao2019\n",
    "        Hierarchical-block conditioning algorithm\n",
    "    \"\"\"\n",
    "    Σ = Matrix(Σ)\n",
    "    x = zeros(n)\n",
    "    P = 1.0\n",
    "#     B, UV = choldecomp_hmatrix(Σ)\n",
    "#     r = length(B)\n",
    "#     m = n ÷ r\n",
    "#     for i in 1:r\n",
    "#         j = (i-1) * m\n",
    "#         if i > 1\n",
    "#             or = row_offset(UV[i-1])\n",
    "#             oc = col_offset(UV[i-1])\n",
    "#             l = dim(UV)\n",
    "#             g = UV[i-1] * x[oc+1:oc+l]\n",
    "#             a[or+1:or+l] -= g\n",
    "#             b[or+1:or+l] -= g\n",
    "#         end\n",
    "#         a_i = a[j+1:j+m]; b_i = b[j+1:j+m]\n",
    "#         P *= cmvn_func(a_i, b_i, 0, B[i] * transpose(B[i]))\n",
    "#         x[j+1:j+m] = solve(B[i], exp_Xi)\n",
    "#     end\n",
    "    return P\n",
    "end"
   ]
  }
 ],
 "metadata": {
  "kernelspec": {
   "display_name": "Julia 1.2.0",
   "language": "julia",
   "name": "julia-1.2"
  },
  "language_info": {
   "file_extension": ".jl",
   "mimetype": "application/julia",
   "name": "julia",
   "version": "1.2.0"
  }
 },
 "nbformat": 4,
 "nbformat_minor": 2
}
