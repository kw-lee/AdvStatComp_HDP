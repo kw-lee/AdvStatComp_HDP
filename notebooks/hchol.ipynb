{
 "cells": [
  {
   "cell_type": "code",
   "execution_count": 6,
   "metadata": {},
   "outputs": [
    {
     "name": "stdout",
     "output_type": "stream",
     "text": [
      "0.379590999\n",
      "0.4090328665234231\n"
     ]
    }
   ],
   "source": [
    "include(\"../src/hchol_sh.jl\")\n",
    "m = 32\n",
    "n = 32 * 32\n",
    "A = rand(Normal(0, 1), n, n)\n",
    "A = A'A\n",
    "A2 = copy(A)\n",
    "A = Symmetric(A)\n",
    "println(@elapsed A1 = hchol(A, m))\n",
    "println(norm(uncompress(A1, m) - A2, 2) / norm(A2, 2))"
   ]
  }
 ],
 "metadata": {
  "kernelspec": {
   "display_name": "Julia 1.2.0",
   "language": "julia",
   "name": "julia-1.2"
  },
  "language_info": {
   "file_extension": ".jl",
   "mimetype": "application/julia",
   "name": "julia",
   "version": "1.2.0"
  }
 },
 "nbformat": 4,
 "nbformat_minor": 2
}
