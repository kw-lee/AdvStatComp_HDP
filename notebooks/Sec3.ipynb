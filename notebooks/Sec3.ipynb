{
 "cells": [
  {
   "cell_type": "code",
   "execution_count": 1,
   "metadata": {},
   "outputs": [
    {
     "name": "stdout",
     "output_type": "stream",
     "text": [
      "Julia Version 1.2.0\n",
      "Commit c6da87ff4b (2019-08-20 00:03 UTC)\n",
      "Platform Info:\n",
      "  OS: Linux (x86_64-pc-linux-gnu)\n",
      "  CPU: Intel(R) Xeon(R) Silver 4110 CPU @ 2.10GHz\n",
      "  WORD_SIZE: 64\n",
      "  LIBM: libopenlibm\n",
      "  LLVM: libLLVM-6.0.1 (ORCJIT, skylake)\n"
     ]
    }
   ],
   "source": [
    "versioninfo()"
   ]
  },
  {
   "cell_type": "code",
   "execution_count": 2,
   "metadata": {},
   "outputs": [],
   "source": [
    "using LinearAlgebra, Distributions, Statistics"
   ]
  },
  {
   "cell_type": "code",
   "execution_count": 3,
   "metadata": {},
   "outputs": [
    {
     "data": {
      "text/plain": [
       "expt_tnorm"
      ]
     },
     "execution_count": 3,
     "metadata": {},
     "output_type": "execute_result"
    }
   ],
   "source": [
    "include(\"../src/cmvn.jl\")\n",
    "include(\"../src/generate.jl\")\n",
    "include(\"../src/mvn.jl\")"
   ]
  },
  {
   "cell_type": "code",
   "execution_count": 4,
   "metadata": {},
   "outputs": [
    {
     "data": {
      "text/plain": [
       "4×5 Array{Float64,2}:\n",
       " 0.00184168   0.0127112  0.0201883  0.166684  0.807052\n",
       " 0.000260183  0.0137821  0.036998   0.298703  1.47424 \n",
       " 0.00096081   0.0255036  0.078845   0.590469  2.8738  \n",
       " 0.00610764   0.0537313  0.150856   1.22054   5.65662 "
      ]
     },
     "execution_count": 4,
     "metadata": {},
     "output_type": "execute_result"
    }
   ],
   "source": [
    "iters = 10\n",
    "ms = [16, 32, 64, 128]; ds = [1, 2, 4, 8, 16]\n",
    "ans_1 = zeros(length(ms), length(ds)); time_1 = zeros(length(ms), length(ds))\n",
    "# ans_2 = zeros(length(ms), length(ds)); time_2 = zeros(length(ms), length(ds))\n",
    "\n",
    "for i in 1:length(ms)\n",
    "    for j in 1:length(ds)\n",
    "        m = ms[i]; d = ds[j]\n",
    "        for p in 1:iters\n",
    "            Σ = Σ_generate(m)\n",
    "            a = fill(-Inf, m)\n",
    "            b = rand(Uniform(0, m), m)\n",
    "            if d ≤ 4\n",
    "                time_1[i, j] += @elapsed (ans_1[i, j] += CMVN(Σ, a, b, d, ns = 5, N = 200)[1])\n",
    "#             time_2[i, j] += @elapsed ans_2[i, j] += RCMVN(Σ, a, b, d, m)[1]\n",
    "            elseif d ≤ 8\n",
    "                time_1[i, j] += @elapsed (ans_1[i, j] += CMVN(Σ, a, b, d, ns = 10, N = 400)[1])\n",
    "#             time_2[i, j] += @elapsed ans_2[i, j] += RCMVN(Σ, a, b, d, m)[1]\n",
    "            else\n",
    "                time_1[i, j] += @elapsed (ans_1[i, j] += CMVN(Σ, a, b, d, ns = 10, N = 1000)[1])\n",
    "#             time_2[i, j] += @elapsed ans_2[i, j] += RCMVN(Σ, a, b, d, m)[1]\n",
    "            end\n",
    "        end\n",
    "    end\n",
    "end\n",
    "ans_1 ./= iters; time_1 ./= iters\n",
    "# ans_2 ./= iters; time_2 ./= iters"
   ]
  },
  {
   "cell_type": "code",
   "execution_count": 5,
   "metadata": {},
   "outputs": [
    {
     "data": {
      "text/plain": [
       "4×5 Array{Float64,2}:\n",
       " 0.756518  0.740422  0.81904   0.636046  0.707965\n",
       " 0.614726  0.861409  0.730301  0.84626   0.858747\n",
       " 0.547702  0.747538  0.895432  0.840643  0.829653\n",
       " 0.62667   0.724664  0.822285  0.684904  0.774255"
      ]
     },
     "execution_count": 5,
     "metadata": {},
     "output_type": "execute_result"
    }
   ],
   "source": [
    "ans_1"
   ]
  },
  {
   "cell_type": "code",
   "execution_count": 6,
   "metadata": {},
   "outputs": [
    {
     "data": {
      "text/plain": [
       "4×5 Array{Float64,2}:\n",
       " 0.00184168   0.0127112  0.0201883  0.166684  0.807052\n",
       " 0.000260183  0.0137821  0.036998   0.298703  1.47424 \n",
       " 0.00096081   0.0255036  0.078845   0.590469  2.8738  \n",
       " 0.00610764   0.0537313  0.150856   1.22054   5.65662 "
      ]
     },
     "execution_count": 6,
     "metadata": {},
     "output_type": "execute_result"
    }
   ],
   "source": [
    "time_1"
   ]
  },
  {
   "cell_type": "code",
   "execution_count": 7,
   "metadata": {},
   "outputs": [],
   "source": [
    "using Random \n",
    "Random.seed!(10);"
   ]
  },
  {
   "cell_type": "code",
   "execution_count": 8,
   "metadata": {},
   "outputs": [
    {
     "data": {
      "text/plain": [
       "(1.0931084233935071e-10, [-0.6446152472711251, -0.3798457189788842, -0.21720184057384997, -0.5164189877923169, -0.5653422149252472, -0.5455304135274137, -0.058036450055581945, -0.34626328606483375, -0.5031971378531659, -0.31095258534960535  …  -0.7905605706373686, -1.5850776970029121, -0.0015850809069268702, 0.3896444883589674, -0.39503636296724304, -0.5373602909095967, -0.5677814780726252, -0.051432954649116236, 0.24311024156206695, 0.20575685281041345])"
      ]
     },
     "execution_count": 8,
     "metadata": {},
     "output_type": "execute_result"
    }
   ],
   "source": [
    "m = 32; d = 16\n",
    "Σ = Σ_generate(m)\n",
    "a = fill(-Inf, m)\n",
    "b =zeros(m)\n",
    "p, y = CMVN(Σ, a, b, d, ns = 10, N = 1000)"
   ]
  },
  {
   "cell_type": "code",
   "execution_count": 9,
   "metadata": {},
   "outputs": [
    {
     "data": {
      "text/plain": [
       "1.0931084233935071e-10"
      ]
     },
     "execution_count": 9,
     "metadata": {},
     "output_type": "execute_result"
    }
   ],
   "source": [
    "p # should be zero"
   ]
  }
 ],
 "metadata": {
  "kernelspec": {
   "display_name": "Julia 1.2.0",
   "language": "julia",
   "name": "julia-1.2"
  },
  "language_info": {
   "file_extension": ".jl",
   "mimetype": "application/julia",
   "name": "julia",
   "version": "1.2.0"
  }
 },
 "nbformat": 4,
 "nbformat_minor": 2
}
