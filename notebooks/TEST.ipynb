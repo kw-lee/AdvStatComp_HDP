{
 "cells": [
  {
   "cell_type": "code",
   "execution_count": 1,
   "metadata": {},
   "outputs": [
    {
     "name": "stdout",
     "output_type": "stream",
     "text": [
      "Julia Version 1.2.0\n",
      "Commit c6da87ff4b (2019-08-20 00:03 UTC)\n",
      "Platform Info:\n",
      "  OS: Linux (x86_64-pc-linux-gnu)\n",
      "  CPU: Intel(R) Xeon(R) Silver 4110 CPU @ 2.10GHz\n",
      "  WORD_SIZE: 64\n",
      "  LIBM: libopenlibm\n",
      "  LLVM: libLLVM-6.0.1 (ORCJIT, skylake)\n"
     ]
    }
   ],
   "source": [
    "versioninfo()"
   ]
  },
  {
   "cell_type": "code",
   "execution_count": 2,
   "metadata": {},
   "outputs": [
    {
     "data": {
      "text/plain": [
       "CMVN"
      ]
     },
     "execution_count": 2,
     "metadata": {},
     "output_type": "execute_result"
    }
   ],
   "source": [
    "using LinearAlgebra\n",
    "using Distributions\n",
    "\n",
    "cd(\"../src\")\n",
    "\n",
    "include(\"hchol.jl\")\n",
    "include(\"mvn.jl\")\n",
    "include(\"truncnorm.jl\")\n",
    "include(\"hcmvn.jl\")\n",
    "include(\"cmvn.jl\")"
   ]
  },
  {
   "cell_type": "code",
   "execution_count": 3,
   "metadata": {},
   "outputs": [
    {
     "name": "stdout",
     "output_type": "stream",
     "text": [
      "Warning: max rank reached\n",
      "Warning: max rank reached\n",
      "Warning: max rank reached\n",
      "Block: UnitRange{Int64}[5:8, 1:4], Rank: 4\n",
      "Block: UnitRange{Int64}[3:4, 1:2], Rank: 2\n",
      "Block: UnitRange{Int64}[7:8, 5:6], Rank: 2\n"
     ]
    }
   ],
   "source": [
    "# test for hchol\n",
    "A = rand(Normal(0,1), 8, 8)\n",
    "A = A'A\n",
    "A = Symmetric(A)\n",
    "m = 2\n",
    "B, UV = hchol(A, m)\n",
    "displayTree(UV)\n",
    "\n",
    "L = uncompress(B, UV)\n",
    "@assert A ≈ L*L'"
   ]
  },
  {
   "cell_type": "markdown",
   "metadata": {},
   "source": [
    "## Test for mvns"
   ]
  },
  {
   "cell_type": "code",
   "execution_count": 4,
   "metadata": {},
   "outputs": [
    {
     "data": {
      "text/plain": [
       "10"
      ]
     },
     "execution_count": 4,
     "metadata": {},
     "output_type": "execute_result"
    }
   ],
   "source": [
    "dim = 16\n",
    "m = 4\n",
    "d = 2\n",
    "a1 = repeat([-10.0], dim)\n",
    "b1 = repeat([0.0], dim)\n",
    "ns = 10"
   ]
  },
  {
   "cell_type": "markdown",
   "metadata": {},
   "source": [
    "### 1. $\\Sigma = I$"
   ]
  },
  {
   "cell_type": "code",
   "execution_count": 5,
   "metadata": {},
   "outputs": [
    {
     "data": {
      "text/plain": [
       "1.0e-8"
      ]
     },
     "execution_count": 5,
     "metadata": {},
     "output_type": "execute_result"
    }
   ],
   "source": [
    "A = convert(Matrix{Float64}, LinearAlgebra.I(dim))\n",
    "Σ = A*A'\n",
    "L = cholesky(Σ).L\n",
    "N = 1000\n",
    "tol = 1e-8"
   ]
  },
  {
   "cell_type": "markdown",
   "metadata": {},
   "source": [
    "#### probabilities"
   ]
  },
  {
   "cell_type": "code",
   "execution_count": 6,
   "metadata": {},
   "outputs": [
    {
     "data": {
      "text/plain": [
       "1.6116522399570697e-13"
      ]
     },
     "execution_count": 6,
     "metadata": {},
     "output_type": "execute_result"
    }
   ],
   "source": [
    "mvn(L, a1, b1, ns = ns, N = N, tol = tol, μ = ones(Float64, length(a1)))"
   ]
  },
  {
   "cell_type": "code",
   "execution_count": 7,
   "metadata": {},
   "outputs": [
    {
     "data": {
      "text/plain": [
       "1.611652239957063e-13"
      ]
     },
     "execution_count": 7,
     "metadata": {},
     "output_type": "execute_result"
    }
   ],
   "source": [
    "p, _ = CMVN(Symmetric(Σ), a1 - ones(Float64, length(a1)), b1 - ones(Float64, length(a1)), d; ns = ns, N = N, tol = tol)\n",
    "p"
   ]
  },
  {
   "cell_type": "code",
   "execution_count": 8,
   "metadata": {},
   "outputs": [
    {
     "data": {
      "text/plain": [
       "1.6116522399570704e-13"
      ]
     },
     "execution_count": 8,
     "metadata": {},
     "output_type": "execute_result"
    }
   ],
   "source": [
    "HMVN(a1, b1, Symmetric(Σ), m, ns = ns, N = N, tol = tol, μ = ones(Float64, length(a1)))"
   ]
  },
  {
   "cell_type": "code",
   "execution_count": 9,
   "metadata": {},
   "outputs": [
    {
     "data": {
      "text/plain": [
       "1.6116522399570649e-13"
      ]
     },
     "execution_count": 9,
     "metadata": {},
     "output_type": "execute_result"
    }
   ],
   "source": [
    "HCMVN(a1, b1, Symmetric(Σ), d, m, μ = ones(Float64, length(a1)))"
   ]
  },
  {
   "cell_type": "code",
   "execution_count": 10,
   "metadata": {},
   "outputs": [
    {
     "data": {
      "text/plain": [
       "1.5258789062500003e-5"
      ]
     },
     "execution_count": 10,
     "metadata": {},
     "output_type": "execute_result"
    }
   ],
   "source": [
    "mvn(L, a1, b1; ns = ns, N = N, tol = tol, μ = b1)"
   ]
  },
  {
   "cell_type": "code",
   "execution_count": 11,
   "metadata": {},
   "outputs": [
    {
     "data": {
      "text/plain": [
       "1.52587890625e-5"
      ]
     },
     "execution_count": 11,
     "metadata": {},
     "output_type": "execute_result"
    }
   ],
   "source": [
    "p, _ = CMVN(Symmetric(Σ), a1 - b1, b1 - b1, d; ns = ns, N = N, tol = tol)\n",
    "p"
   ]
  },
  {
   "cell_type": "code",
   "execution_count": 12,
   "metadata": {},
   "outputs": [
    {
     "data": {
      "text/plain": [
       "1.5258789062500007e-5"
      ]
     },
     "execution_count": 12,
     "metadata": {},
     "output_type": "execute_result"
    }
   ],
   "source": [
    "HMVN(a1, b1, Symmetric(Σ), m; ns = ns, N = N, tol = tol, μ = b1)"
   ]
  },
  {
   "cell_type": "code",
   "execution_count": 13,
   "metadata": {},
   "outputs": [
    {
     "data": {
      "text/plain": [
       "1.5258789062500007e-5"
      ]
     },
     "execution_count": 13,
     "metadata": {},
     "output_type": "execute_result"
    }
   ],
   "source": [
    "HCMVN(a1, b1, Symmetric(Σ), d, m, μ = b1)"
   ]
  },
  {
   "cell_type": "markdown",
   "metadata": {},
   "source": [
    "#### expectation"
   ]
  },
  {
   "cell_type": "code",
   "execution_count": 14,
   "metadata": {},
   "outputs": [
    {
     "data": {
      "text/plain": [
       "16-element Array{Float64,1}:\n",
       " -0.7978845608028654\n",
       " -0.7978845608028654\n",
       " -0.7978845608028654\n",
       " -0.7978845608028654\n",
       " -0.7978845608028654\n",
       " -0.7978845608028654\n",
       " -0.7978845608028654\n",
       " -0.7978845608028654\n",
       " -0.7978845608028654\n",
       " -0.7978845608028654\n",
       " -0.7978845608028654\n",
       " -0.7978845608028654\n",
       " -0.7978845608028654\n",
       " -0.7978845608028654\n",
       " -0.7978845608028654\n",
       " -0.7978845608028654"
      ]
     },
     "execution_count": 14,
     "metadata": {},
     "output_type": "execute_result"
    }
   ],
   "source": [
    "expt_tnorm(a1, b1, L)"
   ]
  },
  {
   "cell_type": "code",
   "execution_count": 15,
   "metadata": {},
   "outputs": [
    {
     "data": {
      "text/plain": [
       "16-element Array{Float64,1}:\n",
       " -0.7978845608028654\n",
       " -0.7978845608028654\n",
       " -0.7978845608028654\n",
       " -0.7978845608028654\n",
       " -0.7978845608028654\n",
       " -0.7978845608028654\n",
       " -0.7978845608028654\n",
       " -0.7978845608028654\n",
       " -0.7978845608028654\n",
       " -0.7978845608028654\n",
       " -0.7978845608028654\n",
       " -0.7978845608028654\n",
       " -0.7978845608028654\n",
       " -0.7978845608028654\n",
       " -0.7978845608028654\n",
       " -0.7978845608028654"
      ]
     },
     "execution_count": 15,
     "metadata": {},
     "output_type": "execute_result"
    }
   ],
   "source": [
    "_, y = CMVN(Symmetric(Σ), a1, b1, d)\n",
    "y"
   ]
  },
  {
   "cell_type": "markdown",
   "metadata": {},
   "source": [
    "### 2. $\\Sigma = AA'$\n",
    "\n",
    "$A_{i,j} \\sim N(0,1)$"
   ]
  },
  {
   "cell_type": "code",
   "execution_count": 16,
   "metadata": {},
   "outputs": [
    {
     "data": {
      "text/plain": [
       "1.0e-8"
      ]
     },
     "execution_count": 16,
     "metadata": {},
     "output_type": "execute_result"
    }
   ],
   "source": [
    "A = rand(Normal(0,1), dim, dim)\n",
    "Σ = A*A'\n",
    "L = cholesky(Σ).L\n",
    "N = 1000\n",
    "tol = 1e-8"
   ]
  },
  {
   "cell_type": "markdown",
   "metadata": {},
   "source": [
    "#### probabilities"
   ]
  },
  {
   "cell_type": "code",
   "execution_count": 17,
   "metadata": {},
   "outputs": [
    {
     "data": {
      "text/plain": [
       "1.2498899687744652e-62"
      ]
     },
     "execution_count": 17,
     "metadata": {},
     "output_type": "execute_result"
    }
   ],
   "source": [
    "mvn(L, a1, b1, ns = ns, N = N, tol = tol, μ = ones(Float64, length(a1)))"
   ]
  },
  {
   "cell_type": "code",
   "execution_count": 18,
   "metadata": {},
   "outputs": [
    {
     "data": {
      "text/plain": [
       "4.1033098479628055e-7"
      ]
     },
     "execution_count": 18,
     "metadata": {},
     "output_type": "execute_result"
    }
   ],
   "source": [
    "p, _ = CMVN(Symmetric(Σ), a1 - ones(Float64, length(a1)), b1 - ones(Float64, length(a1)), d; ns = ns, N = N, tol = tol)\n",
    "p"
   ]
  },
  {
   "cell_type": "code",
   "execution_count": 19,
   "metadata": {},
   "outputs": [
    {
     "name": "stdout",
     "output_type": "stream",
     "text": [
      "Warning: max rank reached\n",
      "Warning: max rank reached\n",
      "Warning: max rank reached\n"
     ]
    },
    {
     "data": {
      "text/plain": [
       "0.0"
      ]
     },
     "execution_count": 19,
     "metadata": {},
     "output_type": "execute_result"
    }
   ],
   "source": [
    "HMVN(a1, b1, Symmetric(Σ), m, ns = ns, N = N, tol = tol, μ = ones(Float64, length(a1)))"
   ]
  },
  {
   "cell_type": "code",
   "execution_count": 20,
   "metadata": {},
   "outputs": [
    {
     "name": "stdout",
     "output_type": "stream",
     "text": [
      "Warning: max rank reached\n",
      "Warning: max rank reached\n",
      "Warning: max rank reached\n"
     ]
    },
    {
     "data": {
      "text/plain": [
       "3.081223826086738e-8"
      ]
     },
     "execution_count": 20,
     "metadata": {},
     "output_type": "execute_result"
    }
   ],
   "source": [
    "HCMVN(a1, b1, Symmetric(Σ), d, m, μ = ones(Float64, length(a1)))"
   ]
  },
  {
   "cell_type": "code",
   "execution_count": 21,
   "metadata": {},
   "outputs": [
    {
     "data": {
      "text/plain": [
       "0.011140200192415347"
      ]
     },
     "execution_count": 21,
     "metadata": {},
     "output_type": "execute_result"
    }
   ],
   "source": [
    "mvn(L, a1, b1; ns = ns, N = N, tol = tol, μ = b1 .- 2)"
   ]
  },
  {
   "cell_type": "code",
   "execution_count": 22,
   "metadata": {},
   "outputs": [
    {
     "data": {
      "text/plain": [
       "0.00967350746754874"
      ]
     },
     "execution_count": 22,
     "metadata": {},
     "output_type": "execute_result"
    }
   ],
   "source": [
    "p, _ = CMVN(Symmetric(Σ), a1 - (b1 .- 2), b1 - (b1 .- 2), d; ns = ns, N = N, tol = tol)\n",
    "p"
   ]
  },
  {
   "cell_type": "code",
   "execution_count": 23,
   "metadata": {},
   "outputs": [
    {
     "name": "stdout",
     "output_type": "stream",
     "text": [
      "Warning: max rank reached\n",
      "Warning: max rank reached\n",
      "Warning: max rank reached\n"
     ]
    },
    {
     "data": {
      "text/plain": [
       "0.007506584881674045"
      ]
     },
     "execution_count": 23,
     "metadata": {},
     "output_type": "execute_result"
    }
   ],
   "source": [
    "HMVN(a1, b1, Symmetric(Σ), m; ns = ns, N = N, tol = tol, μ = b1 .- 2)"
   ]
  },
  {
   "cell_type": "code",
   "execution_count": 24,
   "metadata": {},
   "outputs": [
    {
     "name": "stdout",
     "output_type": "stream",
     "text": [
      "Warning: max rank reached\n",
      "Warning: max rank reached\n",
      "Warning: max rank reached\n"
     ]
    },
    {
     "data": {
      "text/plain": [
       "0.006174649413946383"
      ]
     },
     "execution_count": 24,
     "metadata": {},
     "output_type": "execute_result"
    }
   ],
   "source": [
    "HCMVN(a1, b1, Symmetric(Σ), d, m, μ = b1 .- 2)"
   ]
  },
  {
   "cell_type": "markdown",
   "metadata": {},
   "source": [
    "#### expectation"
   ]
  },
  {
   "cell_type": "code",
   "execution_count": 25,
   "metadata": {},
   "outputs": [
    {
     "data": {
      "text/plain": [
       "16-element Array{Float64,1}:\n",
       " -2.4337367611045315 \n",
       " -4.315854703175674  \n",
       " -2.647917139771913  \n",
       " -4.361950700986237  \n",
       " -2.97593475347354   \n",
       " -4.759618441542154  \n",
       "  0.7445989682684159 \n",
       " -4.559216513615207  \n",
       " -3.5166086538169345 \n",
       " -3.179076049506679  \n",
       " -1.6902307868986166 \n",
       " -5.202453262520512  \n",
       "  0.6138086657871246 \n",
       " -3.898196792269704  \n",
       " -1.2917500610174228 \n",
       "  0.34024705489143736"
      ]
     },
     "execution_count": 25,
     "metadata": {},
     "output_type": "execute_result"
    }
   ],
   "source": [
    "expt_tnorm(a1, b1, L)"
   ]
  },
  {
   "cell_type": "code",
   "execution_count": 28,
   "metadata": {},
   "outputs": [
    {
     "data": {
      "text/plain": [
       "16-element Array{Float64,1}:\n",
       " -2.4337367611045315 \n",
       " -4.315854703175674  \n",
       " -2.647917139771913  \n",
       " -4.361950700986237  \n",
       " -2.97593475347354   \n",
       " -4.759618441542154  \n",
       "  0.7445989682684159 \n",
       " -4.559216513615207  \n",
       " -3.5166086538169345 \n",
       " -3.179076049506679  \n",
       " -1.6902307868986166 \n",
       " -5.202453262520512  \n",
       "  0.6138086657871246 \n",
       " -3.898196792269704  \n",
       " -1.2917500610174228 \n",
       "  0.34024705489143736"
      ]
     },
     "execution_count": 28,
     "metadata": {},
     "output_type": "execute_result"
    }
   ],
   "source": [
    "_, y = CMVN(Symmetric(Σ), a1, b1, dim)\n",
    "y"
   ]
  },
  {
   "cell_type": "code",
   "execution_count": 27,
   "metadata": {},
   "outputs": [
    {
     "data": {
      "text/plain": [
       "16-element Array{Float64,1}:\n",
       " -4.0884756624899925 \n",
       " -2.9854470001990454 \n",
       " -5.322416720478782  \n",
       " -1.4912938461104255 \n",
       " -1.7884410735853598 \n",
       " -1.6387915238196236 \n",
       " -3.2321198290091995 \n",
       " -0.6605450743611053 \n",
       " -3.2055708036661525 \n",
       " -9.421655497420408  \n",
       " -4.443196145927975  \n",
       "  0.6816879161778726 \n",
       " -1.4606983219933214 \n",
       " -1.0587965019564398 \n",
       "  0.5141295488397521 \n",
       " -0.33874555798882544"
      ]
     },
     "execution_count": 27,
     "metadata": {},
     "output_type": "execute_result"
    }
   ],
   "source": [
    "_, y = CMVN(Symmetric(Σ), a1, b1, d)\n",
    "y"
   ]
  }
 ],
 "metadata": {
  "kernelspec": {
   "display_name": "Julia 1.2.0",
   "language": "julia",
   "name": "julia-1.2"
  },
  "language_info": {
   "file_extension": ".jl",
   "mimetype": "application/julia",
   "name": "julia",
   "version": "1.2.0"
  }
 },
 "nbformat": 4,
 "nbformat_minor": 2
}
