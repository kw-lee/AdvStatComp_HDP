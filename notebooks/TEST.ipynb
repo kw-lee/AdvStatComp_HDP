{
 "cells": [
  {
   "cell_type": "code",
   "execution_count": 1,
   "metadata": {},
   "outputs": [
    {
     "name": "stdout",
     "output_type": "stream",
     "text": [
      "Julia Version 1.2.0\n",
      "Commit c6da87ff4b (2019-08-20 00:03 UTC)\n",
      "Platform Info:\n",
      "  OS: Linux (x86_64-pc-linux-gnu)\n",
      "  CPU: Intel(R) Xeon(R) Silver 4110 CPU @ 2.10GHz\n",
      "  WORD_SIZE: 64\n",
      "  LIBM: libopenlibm\n",
      "  LLVM: libLLVM-6.0.1 (ORCJIT, skylake)\n"
     ]
    }
   ],
   "source": [
    "versioninfo()"
   ]
  },
  {
   "cell_type": "code",
   "execution_count": 2,
   "metadata": {},
   "outputs": [
    {
     "data": {
      "text/plain": [
       "CMVN"
      ]
     },
     "execution_count": 2,
     "metadata": {},
     "output_type": "execute_result"
    }
   ],
   "source": [
    "using LinearAlgebra\n",
    "using Distributions\n",
    "\n",
    "cd(\"../src\")\n",
    "\n",
    "include(\"hchol.jl\")\n",
    "include(\"mvn.jl\")\n",
    "include(\"truncnorm.jl\")\n",
    "include(\"hcmvn.jl\")\n",
    "include(\"cmvn.jl\")"
   ]
  },
  {
   "cell_type": "markdown",
   "metadata": {},
   "source": [
    "## Test for mvns"
   ]
  },
  {
   "cell_type": "code",
   "execution_count": 3,
   "metadata": {},
   "outputs": [
    {
     "data": {
      "text/plain": [
       "10"
      ]
     },
     "execution_count": 3,
     "metadata": {},
     "output_type": "execute_result"
    }
   ],
   "source": [
    "dim = 16\n",
    "m = 4\n",
    "d = 2\n",
    "a1 = repeat([-10.0], dim)\n",
    "b1 = repeat([0.0], dim)\n",
    "ns = 10"
   ]
  },
  {
   "cell_type": "markdown",
   "metadata": {},
   "source": [
    "### 1. $\\Sigma = I$"
   ]
  },
  {
   "cell_type": "code",
   "execution_count": 4,
   "metadata": {},
   "outputs": [
    {
     "data": {
      "text/plain": [
       "1.0e-8"
      ]
     },
     "execution_count": 4,
     "metadata": {},
     "output_type": "execute_result"
    }
   ],
   "source": [
    "A = convert(Matrix{Float64}, LinearAlgebra.I(dim))\n",
    "Σ = A*A'\n",
    "L = cholesky(Σ).L\n",
    "N = 1000\n",
    "tol = 1e-8"
   ]
  },
  {
   "cell_type": "markdown",
   "metadata": {},
   "source": [
    "#### probabilities"
   ]
  },
  {
   "cell_type": "code",
   "execution_count": 5,
   "metadata": {},
   "outputs": [
    {
     "data": {
      "text/plain": [
       "1.6116522399570697e-13"
      ]
     },
     "execution_count": 5,
     "metadata": {},
     "output_type": "execute_result"
    }
   ],
   "source": [
    "mvn(L, a1, b1, ns = ns, N = N, tol = tol, μ = ones(Float64, length(a1)))"
   ]
  },
  {
   "cell_type": "code",
   "execution_count": 6,
   "metadata": {},
   "outputs": [
    {
     "data": {
      "text/plain": [
       "1.611652239957063e-13"
      ]
     },
     "execution_count": 6,
     "metadata": {},
     "output_type": "execute_result"
    }
   ],
   "source": [
    "p, _ = CMVN(Symmetric(Σ), a1 - ones(Float64, length(a1)), b1 - ones(Float64, length(a1)), d; ns = ns, N = N, tol = tol)\n",
    "p"
   ]
  },
  {
   "cell_type": "code",
   "execution_count": 7,
   "metadata": {},
   "outputs": [
    {
     "data": {
      "text/plain": [
       "1.6116522399570704e-13"
      ]
     },
     "execution_count": 7,
     "metadata": {},
     "output_type": "execute_result"
    }
   ],
   "source": [
    "HMVN(a1, b1, Symmetric(Σ), m, ns = ns, N = N, tol = tol, μ = ones(Float64, length(a1)))"
   ]
  },
  {
   "cell_type": "code",
   "execution_count": 8,
   "metadata": {},
   "outputs": [
    {
     "data": {
      "text/plain": [
       "1.6116522399570649e-13"
      ]
     },
     "execution_count": 8,
     "metadata": {},
     "output_type": "execute_result"
    }
   ],
   "source": [
    "HCMVN(a1, b1, Symmetric(Σ), d, m, μ = ones(Float64, length(a1)))"
   ]
  },
  {
   "cell_type": "code",
   "execution_count": 9,
   "metadata": {},
   "outputs": [
    {
     "data": {
      "text/plain": [
       "1.5258789062500003e-5"
      ]
     },
     "execution_count": 9,
     "metadata": {},
     "output_type": "execute_result"
    }
   ],
   "source": [
    "mvn(L, a1, b1; ns = ns, N = N, tol = tol, μ = b1)"
   ]
  },
  {
   "cell_type": "code",
   "execution_count": 10,
   "metadata": {},
   "outputs": [
    {
     "data": {
      "text/plain": [
       "1.52587890625e-5"
      ]
     },
     "execution_count": 10,
     "metadata": {},
     "output_type": "execute_result"
    }
   ],
   "source": [
    "p, _ = CMVN(Symmetric(Σ), a1 - b1, b1 - b1, d; ns = ns, N = N, tol = tol)\n",
    "p"
   ]
  },
  {
   "cell_type": "code",
   "execution_count": 11,
   "metadata": {},
   "outputs": [
    {
     "data": {
      "text/plain": [
       "1.5258789062500007e-5"
      ]
     },
     "execution_count": 11,
     "metadata": {},
     "output_type": "execute_result"
    }
   ],
   "source": [
    "HMVN(a1, b1, Symmetric(Σ), m; ns = ns, N = N, tol = tol, μ = b1)"
   ]
  },
  {
   "cell_type": "code",
   "execution_count": 12,
   "metadata": {},
   "outputs": [
    {
     "data": {
      "text/plain": [
       "1.5258789062500007e-5"
      ]
     },
     "execution_count": 12,
     "metadata": {},
     "output_type": "execute_result"
    }
   ],
   "source": [
    "HCMVN(a1, b1, Symmetric(Σ), d, m, μ = b1)"
   ]
  },
  {
   "cell_type": "markdown",
   "metadata": {},
   "source": [
    "#### expectation"
   ]
  },
  {
   "cell_type": "code",
   "execution_count": 13,
   "metadata": {},
   "outputs": [
    {
     "data": {
      "text/plain": [
       "16-element Array{Float64,1}:\n",
       " -0.7978845608028654\n",
       " -0.7978845608028654\n",
       " -0.7978845608028654\n",
       " -0.7978845608028654\n",
       " -0.7978845608028654\n",
       " -0.7978845608028654\n",
       " -0.7978845608028654\n",
       " -0.7978845608028654\n",
       " -0.7978845608028654\n",
       " -0.7978845608028654\n",
       " -0.7978845608028654\n",
       " -0.7978845608028654\n",
       " -0.7978845608028654\n",
       " -0.7978845608028654\n",
       " -0.7978845608028654\n",
       " -0.7978845608028654"
      ]
     },
     "execution_count": 13,
     "metadata": {},
     "output_type": "execute_result"
    }
   ],
   "source": [
    "expt_tnorm(a1, b1, L)"
   ]
  },
  {
   "cell_type": "code",
   "execution_count": 14,
   "metadata": {},
   "outputs": [
    {
     "data": {
      "text/plain": [
       "16-element Array{Float64,1}:\n",
       " -0.7978845608028654\n",
       " -0.7978845608028654\n",
       " -0.7978845608028654\n",
       " -0.7978845608028654\n",
       " -0.7978845608028654\n",
       " -0.7978845608028654\n",
       " -0.7978845608028654\n",
       " -0.7978845608028654\n",
       " -0.7978845608028654\n",
       " -0.7978845608028654\n",
       " -0.7978845608028654\n",
       " -0.7978845608028654\n",
       " -0.7978845608028654\n",
       " -0.7978845608028654\n",
       " -0.7978845608028654\n",
       " -0.7978845608028654"
      ]
     },
     "execution_count": 14,
     "metadata": {},
     "output_type": "execute_result"
    }
   ],
   "source": [
    "_, y = CMVN(Symmetric(Σ), a1, b1, d)\n",
    "y"
   ]
  },
  {
   "cell_type": "markdown",
   "metadata": {},
   "source": [
    "### 2. $\\Sigma = AA'$\n",
    "\n",
    "$A_{i,j} \\sim N(0,1)$"
   ]
  },
  {
   "cell_type": "code",
   "execution_count": 15,
   "metadata": {},
   "outputs": [
    {
     "data": {
      "text/plain": [
       "1.0e-8"
      ]
     },
     "execution_count": 15,
     "metadata": {},
     "output_type": "execute_result"
    }
   ],
   "source": [
    "A = rand(Normal(0,1), dim, dim)\n",
    "Σ = A*A'\n",
    "L = cholesky(Σ).L\n",
    "N = 1000\n",
    "tol = 1e-8"
   ]
  },
  {
   "cell_type": "markdown",
   "metadata": {},
   "source": [
    "#### probabilities"
   ]
  },
  {
   "cell_type": "code",
   "execution_count": 16,
   "metadata": {},
   "outputs": [
    {
     "data": {
      "text/plain": [
       "2.2039154290415795e-101"
      ]
     },
     "execution_count": 16,
     "metadata": {},
     "output_type": "execute_result"
    }
   ],
   "source": [
    "mvn(L, a1, b1, ns = ns, N = N, tol = tol, μ = ones(Float64, length(a1)))"
   ]
  },
  {
   "cell_type": "code",
   "execution_count": 17,
   "metadata": {},
   "outputs": [
    {
     "data": {
      "text/plain": [
       "7.675224760397064e-15"
      ]
     },
     "execution_count": 17,
     "metadata": {},
     "output_type": "execute_result"
    }
   ],
   "source": [
    "p, _ = CMVN(Symmetric(Σ), a1 - ones(Float64, length(a1)), b1 - ones(Float64, length(a1)), d; ns = ns, N = N, tol = tol)\n",
    "p"
   ]
  },
  {
   "cell_type": "code",
   "execution_count": 18,
   "metadata": {},
   "outputs": [
    {
     "data": {
      "text/plain": [
       "2.401582368915958e-7"
      ]
     },
     "execution_count": 18,
     "metadata": {},
     "output_type": "execute_result"
    }
   ],
   "source": [
    "HMVN(a1, b1, Symmetric(Σ), m, ns = ns, N = N, tol = tol, μ = ones(Float64, length(a1)))"
   ]
  },
  {
   "cell_type": "code",
   "execution_count": 19,
   "metadata": {},
   "outputs": [
    {
     "data": {
      "text/plain": [
       "3.459479570624498e-9"
      ]
     },
     "execution_count": 19,
     "metadata": {},
     "output_type": "execute_result"
    }
   ],
   "source": [
    "HCMVN(a1, b1, Symmetric(Σ), d, m, μ = ones(Float64, length(a1)))"
   ]
  },
  {
   "cell_type": "code",
   "execution_count": 20,
   "metadata": {},
   "outputs": [
    {
     "data": {
      "text/plain": [
       "0.017973661121710695"
      ]
     },
     "execution_count": 20,
     "metadata": {},
     "output_type": "execute_result"
    }
   ],
   "source": [
    "mvn(L, a1, b1; ns = ns, N = N, tol = tol, μ = b1 .- 2)"
   ]
  },
  {
   "cell_type": "code",
   "execution_count": 21,
   "metadata": {},
   "outputs": [
    {
     "data": {
      "text/plain": [
       "0.011633216997010545"
      ]
     },
     "execution_count": 21,
     "metadata": {},
     "output_type": "execute_result"
    }
   ],
   "source": [
    "p, _ = CMVN(Symmetric(Σ), a1 - (b1 .- 2), b1 - (b1 .- 2), d; ns = ns, N = N, tol = tol)\n",
    "p"
   ]
  },
  {
   "cell_type": "code",
   "execution_count": 22,
   "metadata": {},
   "outputs": [
    {
     "data": {
      "text/plain": [
       "0.002552721795828241"
      ]
     },
     "execution_count": 22,
     "metadata": {},
     "output_type": "execute_result"
    }
   ],
   "source": [
    "HMVN(a1, b1, Symmetric(Σ), m; ns = ns, N = N, tol = tol, μ = b1 .- 2)"
   ]
  },
  {
   "cell_type": "code",
   "execution_count": 23,
   "metadata": {},
   "outputs": [
    {
     "data": {
      "text/plain": [
       "0.0013979307415243314"
      ]
     },
     "execution_count": 23,
     "metadata": {},
     "output_type": "execute_result"
    }
   ],
   "source": [
    "HCMVN(a1, b1, Symmetric(Σ), d, m, μ = b1 .- 2)"
   ]
  },
  {
   "cell_type": "markdown",
   "metadata": {},
   "source": [
    "#### expectation"
   ]
  },
  {
   "cell_type": "code",
   "execution_count": 24,
   "metadata": {},
   "outputs": [
    {
     "data": {
      "text/plain": [
       "16-element Array{Float64,1}:\n",
       " -4.108163526715283  \n",
       " -5.27998105774036   \n",
       " -1.6752889017372647 \n",
       " -2.0279822964781005 \n",
       " -1.9297642793941487 \n",
       " -0.09839283306280047\n",
       " -4.7386189560922585 \n",
       " -2.292317322396495  \n",
       "  1.4641286247027572 \n",
       " -2.0296111568878774 \n",
       " -6.559218500505544  \n",
       " -0.7290112320014376 \n",
       " -3.933776748752801  \n",
       " -3.0849199801166907 \n",
       " -2.8856180879654496 \n",
       " -3.291514960000635  "
      ]
     },
     "execution_count": 24,
     "metadata": {},
     "output_type": "execute_result"
    }
   ],
   "source": [
    "expt_tnorm(a1, b1, L)"
   ]
  },
  {
   "cell_type": "code",
   "execution_count": 25,
   "metadata": {},
   "outputs": [
    {
     "data": {
      "text/plain": [
       "16-element Array{Float64,1}:\n",
       " -4.108163526715283  \n",
       " -5.27998105774036   \n",
       " -1.6752889017372647 \n",
       " -2.0279822964781005 \n",
       " -1.9297642793941487 \n",
       " -0.09839283306280047\n",
       " -4.7386189560922585 \n",
       " -2.292317322396495  \n",
       "  1.4641286247027572 \n",
       " -2.0296111568878774 \n",
       " -6.559218500505544  \n",
       " -0.7290112320014376 \n",
       " -3.933776748752801  \n",
       " -3.0849199801166907 \n",
       " -2.8856180879654496 \n",
       " -3.291514960000635  "
      ]
     },
     "execution_count": 25,
     "metadata": {},
     "output_type": "execute_result"
    }
   ],
   "source": [
    "_, y = CMVN(Symmetric(Σ), a1, b1, dim)\n",
    "y"
   ]
  },
  {
   "cell_type": "code",
   "execution_count": 26,
   "metadata": {},
   "outputs": [
    {
     "data": {
      "text/plain": [
       "16-element Array{Float64,1}:\n",
       " -3.4617872672571095 \n",
       " -3.146849053448183  \n",
       " -2.3646885707617997 \n",
       " -2.083917707366243  \n",
       " -5.048171181632641  \n",
       " -6.821336109257225  \n",
       " -1.331009118359096  \n",
       " -5.678610372419837  \n",
       " -3.868875006792197  \n",
       "  0.8727267834103911 \n",
       " -2.0274820272448153 \n",
       " -1.6199209244213852 \n",
       " -0.1710485119935156 \n",
       " -1.21588031518748   \n",
       " -0.24970812012560795\n",
       " -0.080921614905504  "
      ]
     },
     "execution_count": 26,
     "metadata": {},
     "output_type": "execute_result"
    }
   ],
   "source": [
    "_, y = CMVN(Symmetric(Σ), a1, b1, d)\n",
    "y"
   ]
  }
 ],
 "metadata": {
  "kernelspec": {
   "display_name": "Julia 1.2.0",
   "language": "julia",
   "name": "julia-1.2"
  },
  "language_info": {
   "file_extension": ".jl",
   "mimetype": "application/julia",
   "name": "julia",
   "version": "1.2.0"
  }
 },
 "nbformat": 4,
 "nbformat_minor": 2
}
