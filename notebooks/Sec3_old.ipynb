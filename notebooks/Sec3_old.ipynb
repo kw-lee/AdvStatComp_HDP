{
 "cells": [
  {
   "cell_type": "code",
   "execution_count": 1,
   "metadata": {},
   "outputs": [],
   "source": [
    "using LinearAlgebra, Distributions, Statistics"
   ]
  },
  {
   "cell_type": "code",
   "execution_count": 2,
   "metadata": {},
   "outputs": [
    {
     "data": {
      "text/plain": [
       "LDL (generic function with 1 method)"
      ]
     },
     "execution_count": 2,
     "metadata": {},
     "output_type": "execute_result"
    }
   ],
   "source": [
    "function LDL(Σ::Symmetric{Float64,Array{Float64,2}}, m::Int, d::Int)#m is multiple of d\n",
    "    Σ = Matrix(Σ)\n",
    "    L = Matrix(1.0I, m, m)\n",
    "    D = zeros(m, m)\n",
    "    for i = 1:d:m-d+1\n",
    "        D[i:(i + d - 1), i:(i + d - 1)] .= Σ[i:(i + d - 1), i:(i + d - 1)]\n",
    "        L[(i + d):m, i:(i + d - 1)] .= Σ[(i + d):m, i:(i + d - 1)] * inv(D[i:(i + d - 1), i:(i + d - 1)])\n",
    "        Σ[(i + d):m, (i + d):m] = Σ[(i + d):m, (i + d):m] .-\n",
    "            L[(i + d):m, i:(i + d - 1)] * D[i:(i + d - 1), i:(i + d - 1)] * transpose(L[(i + d):m, i:(i + d - 1)])\n",
    "        if(i + d < m)\n",
    "            D[(i + d):m, (i + d):m] .= Σ[(i + d):m, (i + d):m] \n",
    "        end\n",
    "    end\n",
    "    (L, D)\n",
    "end"
   ]
  },
  {
   "cell_type": "code",
   "execution_count": 3,
   "metadata": {},
   "outputs": [
    {
     "data": {
      "text/plain": [
       "Σ_generate (generic function with 1 method)"
      ]
     },
     "execution_count": 3,
     "metadata": {},
     "output_type": "execute_result"
    }
   ],
   "source": [
    "function haar_generate(m::Int)\n",
    "    X = rand(Normal(0, 1), m, m)\n",
    "    Q = Matrix(1.0I, m, m)\n",
    "    D = zeros(m)\n",
    "    for i in m:-1:2\n",
    "        u = X[:, 1]\n",
    "        u[1] -= norm(u, 2)\n",
    "        P = Matrix(1.0I, i, i) - 2.0 .* u * transpose(u) ./ (norm(u, 2)^2)\n",
    "        D[m - i + 1] = sign((P * X)[1, 1])\n",
    "        X = (P * X)[2:i, 2:i]\n",
    "\n",
    "        temp = Matrix(1.0I, m, m)\n",
    "        temp[(m - i + 1):m, (m - i + 1):m] .= P\n",
    "        Q = Q * temp\n",
    "    end\n",
    "    D[m] = sign(X[1, 1])\n",
    "    diagm(0 => D) * Q\n",
    "end\n",
    "\n",
    "function Σ_generate(m::Int)\n",
    "    #Data generate\n",
    "    #Sigma generate from Haar distribution over the orthogonal matrix gruop\n",
    "    Q = haar_generate(m)\n",
    "\n",
    "    #J : a diagonal matrix with die diagonal coefficients independently drawn from U(0,1)\n",
    "    J = zeros(m, m)\n",
    "    J[diagind(J)] .= rand(Uniform(0, 1), m)\n",
    "    J\n",
    "    \n",
    "    Symmetric(Q * J * transpose(Q))\n",
    "end"
   ]
  },
  {
   "cell_type": "code",
   "execution_count": 4,
   "metadata": {},
   "outputs": [
    {
     "data": {
      "text/plain": [
       "cdf_trunnormal (generic function with 1 method)"
      ]
     },
     "execution_count": 4,
     "metadata": {},
     "output_type": "execute_result"
    }
   ],
   "source": [
    "#원래는 Quasi인데 일단 그냥 Monte-Carlo로\n",
    "function cdf_trunnormal(a::Array{Float64,1}, b::Array{Float64,1},μ::Array{Float64,1},Σ::Symmetric{Float64,Array{Float64,2}}; cnts = 10000)\n",
    "    d = length(a)\n",
    "    temp = rand(MvNormal(μ,Σ), cnts)\n",
    "    ans = 0\n",
    "    for i in 1:cnts\n",
    "        if(sum(a .< sum(temp[:, i])) == d & sum(temp[:, i] .< b) == d)\n",
    "            ans += 1\n",
    "        end\n",
    "    end\n",
    "    ans/cnts\n",
    "end"
   ]
  },
  {
   "cell_type": "code",
   "execution_count": 5,
   "metadata": {},
   "outputs": [
    {
     "data": {
      "text/plain": [
       "ex_trunnormal (generic function with 1 method)"
      ]
     },
     "execution_count": 5,
     "metadata": {},
     "output_type": "execute_result"
    }
   ],
   "source": [
    "function ex_trunnormal(a::Array{Float64,1}, b::Array{Float64,1}, μ::Array{Float64,1}, Σ::Symmetric{Float64,Array{Float64,2}})\n",
    "    \n",
    "    d = length(a)\n",
    "    c = zeros(d)\n",
    "    \n",
    "    for l in 1:d\n",
    "        μ1 = copy(μ[1:d .!= l] + Σ[1:d .!= l, l] * (a[l] - μ[l]) / Σ[l, l])\n",
    "        μ2 = copy(μ[1:d .!= l] + Σ[1:d .!= l, l] * (b[l] - μ[l]) / Σ[l, l])\n",
    "        Σl = copy(Symmetric(Σ[1:d .!= l, 1:d .!= l] - Σ[l, 1:d .!= l] * transpose(Σ[1:d .!= l, l]) / Σ[l, l]))\n",
    "        c[l] = pdf(Normal(μ[l], sqrt(Σ[l, l])), a[l]) * cdf_trunnormal(a[1:d .!= l], b[1:d .!= l], μ1, Σl) - pdf(Normal(μ[l], sqrt(Σ[l, l])), b[l]) * cdf_trunnormal(a[1:d .!= l], b[1:d .!= l], μ2, Σl)\n",
    "    end\n",
    "\n",
    "    μ + Σ * c / cdf_trunnormal(a, b, μ,Σ)\n",
    "end"
   ]
  },
  {
   "cell_type": "code",
   "execution_count": 6,
   "metadata": {},
   "outputs": [
    {
     "data": {
      "text/plain": [
       "CMVN (generic function with 1 method)"
      ]
     },
     "execution_count": 6,
     "metadata": {},
     "output_type": "execute_result"
    }
   ],
   "source": [
    "function CMVN(Σ::Symmetric{Float64,Array{Float64,2}}, a::Array{Float64,1}, b::Array{Float64,1}, d::Int64, m::Int64)\n",
    "    s = Int(m / d)\n",
    "    y = zeros(m)\n",
    "    P = 1.\n",
    "    L, D = LDL(copy(Σ), m, d)\n",
    "    for i in 1:s\n",
    "        j = Int((i - 1) * d)\n",
    "        g = L[(j + 1):(j + d), 1:j] * y[1:j]\n",
    "        a1 = a[(j + 1):(j + d)] .- g\n",
    "        b1 = b[(j + 1):(j + d)] .- g\n",
    "        D1 = D[(j + 1):(j + d), (j + 1):(j + d)]\n",
    "        \n",
    "        P *= cdf_trunnormal(a1, b1, zeros(d), copy(Symmetric(D1)))\n",
    "        \n",
    "        y[(j + 1):(j + d)] .= ex_trunnormal(a1, b1, zeros(d), copy(Symmetric(D1)))\n",
    "    end\n",
    "    P, y\n",
    "end"
   ]
  },
  {
   "cell_type": "code",
   "execution_count": 7,
   "metadata": {},
   "outputs": [
    {
     "data": {
      "text/plain": [
       "RCMVN (generic function with 1 method)"
      ]
     },
     "execution_count": 7,
     "metadata": {},
     "output_type": "execute_result"
    }
   ],
   "source": [
    "function RCMVN(Σ::Symmetric{Float64,Array{Float64,2}}, a::Array{Float64,1}, b::Array{Float64,1}, d::Int64, m::Int64)\n",
    "    Σ = Matrix(Σ)\n",
    "    y = zeros(m)\n",
    "    C = copy(Σ)\n",
    "    a_prime = b_prime = 0\n",
    "    \n",
    "    for i in 1:m\n",
    "        if i > 1\n",
    "            y[i - 1] = (pdf(Normal(), a_prime) - pdf(Normal(), b_prime)) / (cdf(Normal(), b_prime) - cdf(Normal(), a_prime))\n",
    "        end\n",
    "        \n",
    "        min_temp = 10; j_min = i\n",
    "        \n",
    "        for j in i:m\n",
    "            temp1 = (b[j] - transpose(C[j, 1:(i - 1)]) * y[1:(i - 1)]) / (sqrt(Σ[j, j] - transpose(C[j, 1:(i - 1)]) * C[j, 1:(i - 1)]))\n",
    "            temp2 = (a[j] - transpose(C[j, 1:(i - 1)]) * y[1:(i - 1)]) / (sqrt(Σ[j, j] - transpose(C[j, 1:(i - 1)]) * C[j, 1:(i - 1)]))\n",
    "            temp = cdf(Normal(), temp1) - cdf(Normal(), temp2)\n",
    "            if(min_temp > temp)\n",
    "                j_min = j\n",
    "                temp = min_temp\n",
    "            end\n",
    "        end\n",
    "        \n",
    "        j = j_min\n",
    "        Σ[:, [i, j]] = Σ[:, [j, i]]; Σ[[i, j], :] = Σ[[j, i], :]\n",
    "        C[:, [i, j]] .= C[:, [j, i]]; C[[i, j], :] .= C[[j, i], :]\n",
    "        a[[i, j]] .= a[[j, i]]; b[[i, j]] .= b[[j, i]]\n",
    "        C[i, i] = sqrt(Σ[i, i] - transpose(C[i, 1:(i - 1)]) * C[i, 1:(i - 1)])\n",
    "        for j in  (i + 1):m\n",
    "            C[j, i] = (Σ[j, i] - transpose(C[i, 1:(i - 1)]) * C[j, 1:(i - 1)]) / C[i, i]\n",
    "        end\n",
    "        a_prime = (a[i] - transpose(C[i, 1:(i - 1)]) * y[1:(i - 1)]) / C[i, i]\n",
    "        b_prime = (b[i] - transpose(C[i, 1:(i - 1)]) * y[1:(i - 1)]) / C[i, i]\n",
    "        \n",
    "    end\n",
    "    CMVN(Symmetric(Σ), a, b, d, m)\n",
    "end"
   ]
  },
  {
   "cell_type": "code",
   "execution_count": 8,
   "metadata": {},
   "outputs": [
    {
     "data": {
      "text/plain": [
       "4×5 Array{Float64,2}:\n",
       " 0.874459  0.87119  0.772278  0.825405  0.890534\n",
       " 1.70076   1.72084  1.53631   1.51634   1.66227 \n",
       " 3.43803   3.46523  3.11108   3.03534   3.30214 \n",
       " 6.92552   7.01506  6.15967   6.0102    6.63187 "
      ]
     },
     "execution_count": 8,
     "metadata": {},
     "output_type": "execute_result"
    }
   ],
   "source": [
    "iters = 250\n",
    "ms = [16, 32, 64, 128]; ds = [1, 2, 4, 8, 16]\n",
    "ans_1 = zeros(length(ms), length(ds)); time_1 = zeros(length(ms), length(ds))\n",
    "ans_2 = zeros(length(ms), length(ds)); time_2 = zeros(length(ms), length(ds))\n",
    "\n",
    "for i in 1:length(ms)\n",
    "    for j in 1:length(ds)\n",
    "        m = ms[i]; d = ds[j]\n",
    "        for p in 1:iters\n",
    "            Σ = Σ_generate(m)\n",
    "            a = fill(-Inf, m)\n",
    "            b = rand(Uniform(0, m), m)\n",
    "            time_1[i, j] += @elapsed ans_1[i, j] += CMVN(Σ, a, b, d, m)[1]\n",
    "            time_2[i, j] += @elapsed ans_2[i, j] += RCMVN(Σ, a, b, d, m)[1]\n",
    "        end\n",
    "    end\n",
    "end\n",
    "ans_1 ./= iters; time_1 ./= iters\n",
    "ans_2 ./= iters; time_2 ./= iters"
   ]
  },
  {
   "cell_type": "code",
   "execution_count": 9,
   "metadata": {},
   "outputs": [
    {
     "data": {
      "text/plain": [
       "4×5 Array{Float64,2}:\n",
       " 0.796505  0.790106  0.744898  0.757142  0.763244\n",
       " 0.79294   0.795603  0.799778  0.748595  0.771389\n",
       " 0.795454  0.797203  0.761744  0.781774  0.774206\n",
       " 0.771363  0.774111  0.779079  0.772615  0.787353"
      ]
     },
     "execution_count": 9,
     "metadata": {},
     "output_type": "execute_result"
    }
   ],
   "source": [
    "ans_1"
   ]
  },
  {
   "cell_type": "code",
   "execution_count": 10,
   "metadata": {},
   "outputs": [
    {
     "data": {
      "text/plain": [
       "4×5 Array{Float64,2}:\n",
       " 0.878787  0.870232  0.768169  0.835823  0.931738\n",
       " 1.69668   1.72158   1.53412   1.51159   1.65992 \n",
       " 3.5116    3.45296   3.10521   3.04589   3.29766 \n",
       " 6.79749   6.96986   6.12449   5.99862   6.59756 "
      ]
     },
     "execution_count": 10,
     "metadata": {},
     "output_type": "execute_result"
    }
   ],
   "source": [
    "time_1"
   ]
  },
  {
   "cell_type": "code",
   "execution_count": 11,
   "metadata": {},
   "outputs": [
    {
     "data": {
      "text/plain": [
       "4×5 Array{Float64,2}:\n",
       " 0.795339  0.788527  0.74479   0.756972  0.762919\n",
       " 0.794195  0.795849  0.799149  0.748423  0.772367\n",
       " 0.794212  0.797515  0.762233  0.781643  0.773981\n",
       " 0.770848  0.775071  0.779909  0.772041  0.787305"
      ]
     },
     "execution_count": 11,
     "metadata": {},
     "output_type": "execute_result"
    }
   ],
   "source": [
    "ans_2"
   ]
  },
  {
   "cell_type": "code",
   "execution_count": 12,
   "metadata": {},
   "outputs": [
    {
     "data": {
      "text/plain": [
       "4×5 Array{Float64,2}:\n",
       " 0.874459  0.87119  0.772278  0.825405  0.890534\n",
       " 1.70076   1.72084  1.53631   1.51634   1.66227 \n",
       " 3.43803   3.46523  3.11108   3.03534   3.30214 \n",
       " 6.92552   7.01506  6.15967   6.0102    6.63187 "
      ]
     },
     "execution_count": 12,
     "metadata": {},
     "output_type": "execute_result"
    }
   ],
   "source": [
    "time_2"
   ]
  }
 ],
 "metadata": {
  "kernelspec": {
   "display_name": "Julia 1.2.0",
   "language": "julia",
   "name": "julia-1.2"
  },
  "language_info": {
   "file_extension": ".jl",
   "mimetype": "application/julia",
   "name": "julia",
   "version": "1.2.0"
  }
 },
 "nbformat": 4,
 "nbformat_minor": 2
}
