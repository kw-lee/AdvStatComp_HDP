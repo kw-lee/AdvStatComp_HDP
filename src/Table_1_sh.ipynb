{
 "cells": [
  {
   "cell_type": "code",
   "execution_count": 5,
   "metadata": {
    "scrolled": true
   },
   "outputs": [
    {
     "name": "stdout",
     "output_type": "stream",
     "text": [
      "[256, 1024, 4096, 16384]\n",
      "[0.001621999, 0.0096584, 0.414299701, 156.3175917]\n",
      "[0.0007207, 0.0132376, 0.430535101, 154.0718618]\n",
      "[0.1532465, 0.0762115, 0.9161763, 37.3329991]\n",
      "[1.060943412202425e-7, 9.966979869024319e-7, 0.0011113011849685343, 0.0018707146975361433]\n"
     ]
    }
   ],
   "source": [
    "cd(\"C:/Users/spatial stat/Desktop/2019-2/고급통계계산/Project/github/AdvStatComp_HDP/src\")\n",
    "include(\"hchol_sh.jl\")\n",
    "β = 0.3\n",
    "ns = [16, 32, 64, 128]\n",
    "#ns = [4, 8, 16, 32, 64]\n",
    "chol_time = zeros(length(ns))\n",
    "potrf_time = zeros(length(ns))\n",
    "hchol_time = zeros(length(ns))\n",
    "hchol_error = zeros(length(ns))\n",
    "for i in 1:length(ns)\n",
    "    n = ns[i]\n",
    "    N = n * n\n",
    "    Σ = zeros(N, N)\n",
    "    #Exponential Covariance Matrix with β\n",
    "    #n points evenly distributed on a grid in the unit square and indexed with Morton's order\n",
    "    function morton(n::Int64)\n",
    "        if n == 1\n",
    "            return [1], [1]\n",
    "        end\n",
    "        a, b = morton(n÷2)\n",
    "        return vcat(a, a .+ n÷2, a, a .+ n÷2), vcat(b, b, b .+ n÷2, b .+ n÷2)\n",
    "    end\n",
    "\n",
    "    a, b = morton(n)\n",
    "    for i in 1:N\n",
    "        for j in 1:N\n",
    "            Σ[i, j] = exp( -norm([a[i] - a[j], b[i] - b[j]], 2) / β)\n",
    "        end\n",
    "    end\n",
    "    Σ = Symmetric(Σ)\n",
    "    Σ1 = copy(Σ)\n",
    "    chol_time[i] = @elapsed cholesky(Σ)\n",
    "    potrf_time[i] = @elapsed LAPACK.potrf!('L', Matrix(Σ))[1]\n",
    "    hchol_time[i] = @elapsed L = hchol(Σ, n)\n",
    "    hchol_error[i] =norm(uncompress(L, n) - Σ1, 2)/norm(Σ1, 2)\n",
    "end\n",
    "println(ns.^2)\n",
    "println(chol_time)\n",
    "println(potrf_time)\n",
    "println(hchol_time)\n",
    "println(hchol_error)"
   ]
  },
  {
   "cell_type": "code",
   "execution_count": 12,
   "metadata": {},
   "outputs": [
    {
     "name": "stdout",
     "output_type": "stream",
     "text": [
      "[0.007150199, 0.1849618, 1.066223699, 142.725039201]\n",
      "[0.008398399, 0.049058399, 0.917584099, 156.701292201]\n",
      "[0.1777536, 0.0460408, 1.4873949, 25.1979474]\n",
      "[0.042844201, 0.1009667, 2.656264101, 0.0]\n"
     ]
    }
   ],
   "source": [
    "println(chol_time)\n",
    "println(potrf_time)\n",
    "println(hchol_time)\n",
    "println(hchol_error)"
   ]
  },
  {
   "cell_type": "code",
   "execution_count": 23,
   "metadata": {
    "scrolled": true
   },
   "outputs": [],
   "source": [
    "cd(\"C:/Users/spatial stat/Desktop/2019-2/고급통계계산/Project/github/AdvStatComp_HDP/src\")\n",
    "include(\"hchol_sh.jl\")\n",
    "using LinearAlgebra\n",
    "β = 0.3\n",
    "n = 128\n",
    "N = n * n\n",
    "Σ = zeros(N, N)\n",
    "#Exponential Covariance Matrix with β\n",
    "#n points evenly distributed on a grid in the unit square and indexed with Morton's order\n",
    "function morton(n::Int64)\n",
    "    if n == 1\n",
    "        return [1], [1]\n",
    "    end\n",
    "    a, b = morton(n÷2)\n",
    "    return vcat(a, a .+ n÷2, a, a .+ n÷2), vcat(b, b, b .+ n÷2, b .+ n÷2)\n",
    "end\n",
    "\n",
    "a, b = morton(n)\n",
    "for i in 1:N\n",
    "    for j in 1:N\n",
    "        Σ[i, j] = exp( -norm([a[i] - a[j], b[i] - b[j]], 2) / β)\n",
    "    end\n",
    "end\n",
    "\n",
    "#@elapsed hchol_iter(Σ, n)"
   ]
  },
  {
   "cell_type": "code",
   "execution_count": 24,
   "metadata": {},
   "outputs": [
    {
     "data": {
      "text/plain": [
       "Cholesky{Float64,Array{Float64,2}}\n",
       "U factor:\n",
       "16384×16384 UpperTriangular{Float64,Array{Float64,2}}:\n",
       " 1.0  0.035674  0.035674    0.00896842  …  1.0389e-259   9.8845e-261 \n",
       "  ⋅   0.999363  0.00770069  0.0353766      1.0787e-258   1.03603e-259\n",
       "  ⋅    ⋅        0.999334    0.035105       1.09086e-258  1.02808e-259\n",
       "  ⋅    ⋅         ⋅          0.998717       1.15209e-257  1.09619e-258\n",
       "  ⋅    ⋅         ⋅           ⋅             1.10363e-257  1.07026e-258\n",
       "  ⋅    ⋅         ⋅           ⋅          …  1.13635e-256  1.11247e-257\n",
       "  ⋅    ⋅         ⋅           ⋅             1.19073e-256  1.14356e-257\n",
       "  ⋅    ⋅         ⋅           ⋅             1.23683e-255  1.19944e-256\n",
       "  ⋅    ⋅         ⋅           ⋅             1.14245e-257  1.06657e-258\n",
       "  ⋅    ⋅         ⋅           ⋅             1.20984e-256  1.14012e-257\n",
       "  ⋅    ⋅         ⋅           ⋅          …  1.19319e-256  1.10363e-257\n",
       "  ⋅    ⋅         ⋅           ⋅             1.28447e-255  1.19935e-256\n",
       "  ⋅    ⋅         ⋅           ⋅             1.26517e-255  1.20383e-256\n",
       " ⋮                                      ⋱                            \n",
       "  ⋅    ⋅         ⋅           ⋅             4.00025e-5    2.55853e-5  \n",
       "  ⋅    ⋅         ⋅           ⋅             2.46721e-5    4.44441e-5  \n",
       "  ⋅    ⋅         ⋅           ⋅             0.00125197    0.000575997 \n",
       "  ⋅    ⋅         ⋅           ⋅          …  0.000534165   0.00125213  \n",
       "  ⋅    ⋅         ⋅           ⋅             0.000571242   2.54281e-5  \n",
       "  ⋅    ⋅         ⋅           ⋅             0.00892914    0.00057157  \n",
       "  ⋅    ⋅         ⋅           ⋅             0.00118321    4.00126e-5  \n",
       "  ⋅    ⋅         ⋅           ⋅             0.0353555     0.00125191  \n",
       "  ⋅    ⋅         ⋅           ⋅          …  0.0350814     0.0089199   \n",
       "  ⋅    ⋅         ⋅           ⋅             0.00768787    0.0353556   \n",
       "  ⋅    ⋅         ⋅           ⋅             0.998687      0.0350844   \n",
       "  ⋅    ⋅         ⋅           ⋅              ⋅            0.998717    "
      ]
     },
     "execution_count": 24,
     "metadata": {},
     "output_type": "execute_result"
    }
   ],
   "source": [
    "cholesky(Σ)"
   ]
  },
  {
   "cell_type": "code",
   "execution_count": 21,
   "metadata": {
    "scrolled": true
   },
   "outputs": [
    {
     "name": "stdout",
     "output_type": "stream",
     "text": [
      "0.755315701\n"
     ]
    },
    {
     "data": {
      "text/plain": [
       "0.17948764113610485"
      ]
     },
     "execution_count": 21,
     "metadata": {},
     "output_type": "execute_result"
    }
   ],
   "source": [
    "include(\"hchol_sh.jl\")\n",
    "Σ1 = copy(Σ)\n",
    "#println(@elapsed cholesky(Σ))\n",
    "println(@elapsed L = hchol(Symmetric(Σ), n))\n",
    "norm(uncompress(L, n) - Σ1, 2)"
   ]
  },
  {
   "cell_type": "code",
   "execution_count": 22,
   "metadata": {},
   "outputs": [
    {
     "data": {
      "text/plain": [
       "0.07632712063245985"
      ]
     },
     "execution_count": 22,
     "metadata": {},
     "output_type": "execute_result"
    }
   ],
   "source": [
    "norm(uncompress(L, n) - Σ1, 2)/norm(Σ1, 2)"
   ]
  },
  {
   "cell_type": "code",
   "execution_count": 11,
   "metadata": {},
   "outputs": [
    {
     "name": "stdout",
     "output_type": "stream",
     "text": [
      "\u001b[32m\u001b[1m  Updating\u001b[22m\u001b[39m registry at `C:\\Users\\spatial stat\\.julia\\registries\\General`\n",
      "\u001b[32m\u001b[1m  Updating\u001b[22m\u001b[39m git-repo `https://github.com/JuliaRegistries/General.git`\n",
      "\u001b[2K\u001b[36m\u001b[1mFetching:\u001b[22m\u001b[39m [========================================>]  100.0 %.0 %\u001b[?25h\u001b[32m\u001b[1m Resolving\u001b[22m\u001b[39m package versions...\n",
      "\u001b[32m\u001b[1m Installed\u001b[22m\u001b[39m Nullables ───── v1.0.0\n",
      "\u001b[32m\u001b[1m Installed\u001b[22m\u001b[39m LowRankApprox ─ v0.4.0\n",
      "\u001b[32m\u001b[1m  Updating\u001b[22m\u001b[39m `C:\\Users\\spatial stat\\.julia\\environments\\v1.2\\Project.toml`\n",
      " \u001b[90m [898213cb]\u001b[39m\u001b[92m + LowRankApprox v0.4.0\u001b[39m\n",
      "\u001b[32m\u001b[1m  Updating\u001b[22m\u001b[39m `C:\\Users\\spatial stat\\.julia\\environments\\v1.2\\Manifest.toml`\n",
      " \u001b[90m [898213cb]\u001b[39m\u001b[92m + LowRankApprox v0.4.0\u001b[39m\n",
      " \u001b[90m [4d1e1d77]\u001b[39m\u001b[92m + Nullables v1.0.0\u001b[39m\n"
     ]
    },
    {
     "name": "stderr",
     "output_type": "stream",
     "text": [
      "┌ Info: Precompiling LowRankApprox [898213cb-b102-5a47-900c-97e73b919f73]\n",
      "└ @ Base loading.jl:1242\n"
     ]
    },
    {
     "data": {
      "text/plain": [
       "9.3270333"
      ]
     },
     "execution_count": 11,
     "metadata": {},
     "output_type": "execute_result"
    }
   ],
   "source": [
    "using Pkg\n",
    "Pkg.add(\"LowRankApprox\")\n",
    "using LowRankApprox\n",
    "@elapsed svd(Σ[1:N÷2, (N÷2 + 1):N])"
   ]
  },
  {
   "cell_type": "code",
   "execution_count": 31,
   "metadata": {},
   "outputs": [
    {
     "data": {
      "text/plain": [
       "4.7448153293613463e-5"
      ]
     },
     "execution_count": 31,
     "metadata": {},
     "output_type": "execute_result"
    }
   ],
   "source": [
    "nb = N ÷ 2\n",
    "kmax = 16 + Int(floor(3 * sqrt(nb)))\n",
    "kmax = kmax < nb ? kmax : nb\n",
    "\n",
    "opts = LRAOptions(maxdet_tol=0., sketch_randn_niter=1)\n",
    "opts.sketch = :randn\n",
    "opts.rtol = 5*eps(real(Float64))\n",
    "@elapsed U, S, V = psvd(Σ[1:N÷2, (N÷2 + 1):N], opts, rank = n)\n",
    "norm(U * diagm(S) * V' - Σ[1:N÷2, (N÷2 + 1):N], 2)"
   ]
  },
  {
   "cell_type": "code",
   "execution_count": 35,
   "metadata": {},
   "outputs": [
    {
     "data": {
      "text/plain": [
       "(2048, 64)"
      ]
     },
     "execution_count": 35,
     "metadata": {},
     "output_type": "execute_result"
    }
   ],
   "source": [
    "size(U * diagm(sqrt.(S)))"
   ]
  },
  {
   "cell_type": "code",
   "execution_count": null,
   "metadata": {},
   "outputs": [],
   "source": [
    "function hchol(A::Symmetric{T,Array{T,2}}, m::Int; tol=convert(T, 1e-8)) where T<: AbstractFloat\n",
    "    A = Matrix(A)\n",
    "    n = size(A)[1]\n",
    "    nlev = Int(floor(log2(n/m)))\n",
    "    for i in 1:nlev\n",
    "        nb = n ÷ 2^i\n",
    "        xbegin = 0; ybegin = nb\n",
    "        for j in 1:2^(i - 1)\n",
    "            A[(xbegin + 1):(xbegin + nb), (ybegin + 1):(ybegin + nb)]\n",
    "            xbegin += nb; ybegin += nb\n",
    "        end\n",
    "    end\n",
    "end"
   ]
  }
 ],
 "metadata": {
  "kernelspec": {
   "display_name": "Julia 1.2.0",
   "language": "julia",
   "name": "julia-1.2"
  },
  "language_info": {
   "file_extension": ".jl",
   "mimetype": "application/julia",
   "name": "julia",
   "version": "1.2.0"
  }
 },
 "nbformat": 4,
 "nbformat_minor": 2
}
